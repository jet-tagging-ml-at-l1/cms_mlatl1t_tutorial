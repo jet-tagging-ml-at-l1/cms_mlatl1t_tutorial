{
 "cells": [
  {
   "cell_type": "markdown",
   "id": "42f1a6d0",
   "metadata": {},
   "source": [
    "**Execute the below cell directly – might take ~1min to import everything!**"
   ]
  },
  {
   "cell_type": "code",
   "execution_count": null,
   "id": "507a90ab",
   "metadata": {},
   "outputs": [],
   "source": [
    "%pip install xxhash"
   ]
  },
  {
   "cell_type": "code",
   "execution_count": 1,
   "id": "53509084",
   "metadata": {},
   "outputs": [
    {
     "name": "stdout",
     "output_type": "stream",
     "text": [
      "CPU times: user 5.65 s, sys: 1.12 s, total: 6.77 s\n",
      "Wall time: 11.9 s\n"
     ]
    }
   ],
   "source": [
    "%%time\n",
    "import pickle, uproot\n",
    "import pandas as pd\n",
    "import numpy as np\n",
    "import awkward as ak\n",
    "import re\n",
    "\n",
    "import matplotlib as mpl\n",
    "import matplotlib.pyplot as plt\n",
    "from matplotlib.colors import LogNorm\n",
    "import mplhep as hep\n",
    "mpl.rcParams.update({'font.size': 20})\n",
    "\n",
    "import os\n",
    "os.environ['TF_CPP_MIN_LOG_LEVEL'] = '2'\n",
    "from tensorflow.keras.models import Sequential\n",
    "from tensorflow.keras.layers import Dense, Activation, BatchNormalization\n",
    "from tensorflow.keras.optimizers import Adam\n",
    "from tensorflow.keras.regularizers import l1\n",
    "from tensorflow import keras\n",
    "from tensorflow.keras import layers, activations"
   ]
  },
  {
   "cell_type": "code",
   "execution_count": 2,
   "id": "0465cfa1",
   "metadata": {},
   "outputs": [],
   "source": [
    "hep.style.use(\"CMS\")"
   ]
  },
  {
   "cell_type": "code",
   "execution_count": 3,
   "id": "b8e61236",
   "metadata": {},
   "outputs": [
    {
     "data": {
      "text/plain": [
       "[PhysicalDevice(name='/physical_device:CPU:0', device_type='CPU'),\n",
       " PhysicalDevice(name='/physical_device:GPU:0', device_type='GPU')]"
      ]
     },
     "execution_count": 3,
     "metadata": {},
     "output_type": "execute_result"
    }
   ],
   "source": [
    "import tensorflow as tf\n",
    "tf.config.list_physical_devices()"
   ]
  },
  {
   "cell_type": "code",
   "execution_count": 4,
   "id": "738ed6bb",
   "metadata": {},
   "outputs": [
    {
     "data": {
      "text/plain": [
       "'/device:GPU:0'"
      ]
     },
     "execution_count": 4,
     "metadata": {},
     "output_type": "execute_result"
    }
   ],
   "source": [
    "tf.test.gpu_device_name()"
   ]
  },
  {
   "cell_type": "code",
   "execution_count": 5,
   "id": "b1d90da8",
   "metadata": {},
   "outputs": [],
   "source": [
    "#tf.debugging.set_log_device_placement(False)"
   ]
  },
  {
   "cell_type": "code",
   "execution_count": 6,
   "id": "0a3276d4",
   "metadata": {},
   "outputs": [
    {
     "name": "stdout",
     "output_type": "stream",
     "text": [
      "tf.Tensor(\n",
      "[[22. 28.]\n",
      " [49. 64.]], shape=(2, 2), dtype=float32)\n",
      "/job:localhost/replica:0/task:0/device:GPU:0\n"
     ]
    }
   ],
   "source": [
    "a = tf.constant([[1.0, 2.0, 3.0], [4.0, 5.0, 6.0]])\n",
    "b = tf.constant([[1.0, 2.0], [3.0, 4.0], [5.0, 6.0]])\n",
    "c = tf.matmul(a, b)\n",
    "\n",
    "print(c)\n",
    "print(c.device)"
   ]
  },
  {
   "cell_type": "markdown",
   "id": "2bd06c11",
   "metadata": {},
   "source": [
    "# Training NN jet tagger for L1\n",
    "\n",
    "This part1 consists of the following steps:\n",
    "\n",
    "1. Load L1 data from ROOT Ntuple input files (one entry = one jet) and preprocess them for ML usage\n",
    "2. Train and evaluate an NN classifier\n",
    "3. Check the signal efficiency & rate of \"traditional\" L1 seeds (the menu)\n",
    "4. Compare the NN trigger to the L1 menu\n",
    "5. Measure efficiencies wrt some offline object variables"
   ]
  },
  {
   "cell_type": "markdown",
   "id": "4af57345",
   "metadata": {},
   "source": [
    "# 1. Load L1 jet data, define signal and bkg and plot variables\n",
    "\n",
    "Below are the data paths to the input jet Ntuples with the L1 jets:"
   ]
  },
  {
   "cell_type": "code",
   "execution_count": 7,
   "id": "8c76d777",
   "metadata": {},
   "outputs": [],
   "source": [
    "#fname_sig = \"/eos/cms/store/group/dpg_trigger/comm_trigger/L1Trigger/alobanov/run3/L1nano/ggHH2b2tau_130x_v12.root\"\n",
    "#fname_bkg = \"/eos/cms/store/group/dpg_trigger/comm_trigger/L1Trigger/alobanov/run3/L1nano/v12/mc/SingleNeutrino_E-10_gun/SingleNeutrino_130X_L1NanoV12_None/231205_110830/SingleNeutrino_130X_L1NanoV12.root\"\n",
    "#fname = \"/afs/cern.ch/work/s/sewuchte/public/jetTuple.root\"\n",
    "#fname = \"/eos/user/p/pinkaew/research/btag_mlatl1t/preprocessing-scripts/data/jetTuple.root\"\n",
    "fname = \"/eos/user/p/pinkaew/research/btag_mlatl1t/cms_mlatl1t_tutorial/part1/data/all_data.root\""
   ]
  },
  {
   "cell_type": "markdown",
   "id": "4e035d62",
   "metadata": {},
   "source": [
    "We will be using [`uproot`](https://uproot.readthedocs.io/en/latest/index.html) and [`awkward arrays`](https://awkward-array.org/doc/main/) for reading the Nano ROOT files and manipulating the \"jagged\" arrays."
   ]
  },
  {
   "cell_type": "code",
   "execution_count": 8,
   "id": "4a8071cc",
   "metadata": {},
   "outputs": [],
   "source": [
    "#f_sig = uproot.open(fname_sig)\n",
    "#f_bkg = uproot.open(fname_bkg)\n",
    "input_file = uproot.open(fname)"
   ]
  },
  {
   "cell_type": "code",
   "execution_count": 9,
   "id": "b6fad642",
   "metadata": {},
   "outputs": [],
   "source": [
    "input_file[\"jetntuple/tree\"].keys(filter_name=\"jet_*\");"
   ]
  },
  {
   "cell_type": "markdown",
   "id": "5f735cc1",
   "metadata": {},
   "source": [
    "We will read all jet properties to use them in the NN training.\n",
    "\n",
    "Below we will load the information using the `array` method of `awkward`. It accepts regexp for the branch name filter."
   ]
  },
  {
   "cell_type": "code",
   "execution_count": 12,
   "id": "1351d2cf",
   "metadata": {},
   "outputs": [
    {
     "ename": "KeyboardInterrupt",
     "evalue": "",
     "output_type": "error",
     "traceback": [
      "\u001b[0;31m---------------------------------------------------------------------------\u001b[0m",
      "\u001b[0;31mKeyboardInterrupt\u001b[0m                         Traceback (most recent call last)",
      "\u001b[0;32m<timed exec>\u001b[0m in \u001b[0;36m<module>\u001b[0;34m\u001b[0m\n",
      "\u001b[0;32m/cvmfs/sft.cern.ch/lcg/views/LCG_104a_cuda/x86_64-centos7-gcc11-opt/lib/python3.9/site-packages/uproot/behaviors/TBranch.py\u001b[0m in \u001b[0;36marrays\u001b[0;34m(self, expressions, cut, filter_name, filter_typename, filter_branch, aliases, language, entry_start, entry_stop, decompression_executor, interpretation_executor, array_cache, library, how)\u001b[0m\n\u001b[1;32m   1255\u001b[0m                         \u001b[0mranges_or_baskets\u001b[0m\u001b[0;34m.\u001b[0m\u001b[0mappend\u001b[0m\u001b[0;34m(\u001b[0m\u001b[0;34m(\u001b[0m\u001b[0mbranch\u001b[0m\u001b[0;34m,\u001b[0m \u001b[0mbasket_num\u001b[0m\u001b[0;34m,\u001b[0m \u001b[0mrange_or_basket\u001b[0m\u001b[0;34m)\u001b[0m\u001b[0;34m)\u001b[0m\u001b[0;34m\u001b[0m\u001b[0;34m\u001b[0m\u001b[0m\n\u001b[1;32m   1256\u001b[0m \u001b[0;34m\u001b[0m\u001b[0m\n\u001b[0;32m-> 1257\u001b[0;31m         _ranges_or_baskets_to_arrays(\n\u001b[0m\u001b[1;32m   1258\u001b[0m             \u001b[0mself\u001b[0m\u001b[0;34m,\u001b[0m\u001b[0;34m\u001b[0m\u001b[0;34m\u001b[0m\u001b[0m\n\u001b[1;32m   1259\u001b[0m             \u001b[0mranges_or_baskets\u001b[0m\u001b[0;34m,\u001b[0m\u001b[0;34m\u001b[0m\u001b[0;34m\u001b[0m\u001b[0m\n",
      "\u001b[0;32m/cvmfs/sft.cern.ch/lcg/views/LCG_104a_cuda/x86_64-centos7-gcc11-opt/lib/python3.9/site-packages/uproot/behaviors/TBranch.py\u001b[0m in \u001b[0;36m_ranges_or_baskets_to_arrays\u001b[0;34m(hasbranches, ranges_or_baskets, branchid_interpretation, entry_start, entry_stop, decompression_executor, interpretation_executor, library, arrays, update_ranges_or_baskets)\u001b[0m\n\u001b[1;32m   3482\u001b[0m         \u001b[0;32mif\u001b[0m \u001b[0misinstance\u001b[0m\u001b[0;34m(\u001b[0m\u001b[0mobj\u001b[0m\u001b[0;34m,\u001b[0m \u001b[0muproot\u001b[0m\u001b[0;34m.\u001b[0m\u001b[0msource\u001b[0m\u001b[0;34m.\u001b[0m\u001b[0mchunk\u001b[0m\u001b[0;34m.\u001b[0m\u001b[0mChunk\u001b[0m\u001b[0;34m)\u001b[0m\u001b[0;34m:\u001b[0m\u001b[0;34m\u001b[0m\u001b[0;34m\u001b[0m\u001b[0m\n\u001b[1;32m   3483\u001b[0m             \u001b[0margs\u001b[0m \u001b[0;34m=\u001b[0m \u001b[0mrange_args\u001b[0m\u001b[0;34m[\u001b[0m\u001b[0;34m(\u001b[0m\u001b[0mobj\u001b[0m\u001b[0;34m.\u001b[0m\u001b[0mstart\u001b[0m\u001b[0;34m,\u001b[0m \u001b[0mobj\u001b[0m\u001b[0;34m.\u001b[0m\u001b[0mstop\u001b[0m\u001b[0;34m)\u001b[0m\u001b[0;34m]\u001b[0m\u001b[0;34m\u001b[0m\u001b[0;34m\u001b[0m\u001b[0m\n\u001b[0;32m-> 3484\u001b[0;31m             \u001b[0mdecompression_executor\u001b[0m\u001b[0;34m.\u001b[0m\u001b[0msubmit\u001b[0m\u001b[0;34m(\u001b[0m\u001b[0mchunk_to_basket\u001b[0m\u001b[0;34m,\u001b[0m \u001b[0mobj\u001b[0m\u001b[0;34m,\u001b[0m \u001b[0;34m*\u001b[0m\u001b[0margs\u001b[0m\u001b[0;34m)\u001b[0m\u001b[0;34m\u001b[0m\u001b[0;34m\u001b[0m\u001b[0m\n\u001b[0m\u001b[1;32m   3485\u001b[0m \u001b[0;34m\u001b[0m\u001b[0m\n\u001b[1;32m   3486\u001b[0m         \u001b[0;32melif\u001b[0m \u001b[0misinstance\u001b[0m\u001b[0;34m(\u001b[0m\u001b[0mobj\u001b[0m\u001b[0;34m,\u001b[0m \u001b[0muproot\u001b[0m\u001b[0;34m.\u001b[0m\u001b[0mmodels\u001b[0m\u001b[0;34m.\u001b[0m\u001b[0mTBasket\u001b[0m\u001b[0;34m.\u001b[0m\u001b[0mModel_TBasket\u001b[0m\u001b[0;34m)\u001b[0m\u001b[0;34m:\u001b[0m\u001b[0;34m\u001b[0m\u001b[0;34m\u001b[0m\u001b[0m\n",
      "\u001b[0;32m/cvmfs/sft.cern.ch/lcg/views/LCG_104a_cuda/x86_64-centos7-gcc11-opt/lib/python3.9/site-packages/uproot/source/futures.py\u001b[0m in \u001b[0;36msubmit\u001b[0;34m(self, task, *args)\u001b[0m\n\u001b[1;32m     71\u001b[0m         \u001b[0mImmediately\u001b[0m \u001b[0mruns\u001b[0m\u001b[0;31m \u001b[0m\u001b[0;31m`\u001b[0m\u001b[0;31m`\u001b[0m\u001b[0mtask\u001b[0m\u001b[0;34m(\u001b[0m\u001b[0;34m*\u001b[0m\u001b[0margs\u001b[0m\u001b[0;34m)\u001b[0m\u001b[0;31m`\u001b[0m\u001b[0;31m`\u001b[0m\u001b[0;34m.\u001b[0m\u001b[0;34m\u001b[0m\u001b[0;34m\u001b[0m\u001b[0m\n\u001b[1;32m     72\u001b[0m         \"\"\"\n\u001b[0;32m---> 73\u001b[0;31m         \u001b[0;32mreturn\u001b[0m \u001b[0mTrivialFuture\u001b[0m\u001b[0;34m(\u001b[0m\u001b[0mtask\u001b[0m\u001b[0;34m(\u001b[0m\u001b[0;34m*\u001b[0m\u001b[0margs\u001b[0m\u001b[0;34m)\u001b[0m\u001b[0;34m)\u001b[0m\u001b[0;34m\u001b[0m\u001b[0;34m\u001b[0m\u001b[0m\n\u001b[0m\u001b[1;32m     74\u001b[0m \u001b[0;34m\u001b[0m\u001b[0m\n\u001b[1;32m     75\u001b[0m     \u001b[0;32mdef\u001b[0m \u001b[0mshutdown\u001b[0m\u001b[0;34m(\u001b[0m\u001b[0mself\u001b[0m\u001b[0;34m,\u001b[0m \u001b[0mwait\u001b[0m\u001b[0;34m=\u001b[0m\u001b[0;32mTrue\u001b[0m\u001b[0;34m)\u001b[0m\u001b[0;34m:\u001b[0m\u001b[0;34m\u001b[0m\u001b[0;34m\u001b[0m\u001b[0m\n",
      "\u001b[0;32m/cvmfs/sft.cern.ch/lcg/views/LCG_104a_cuda/x86_64-centos7-gcc11-opt/lib/python3.9/site-packages/uproot/behaviors/TBranch.py\u001b[0m in \u001b[0;36mchunk_to_basket\u001b[0;34m(chunk, branch, basket_num)\u001b[0m\n\u001b[1;32m   3412\u001b[0m         \u001b[0;32mtry\u001b[0m\u001b[0;34m:\u001b[0m\u001b[0;34m\u001b[0m\u001b[0;34m\u001b[0m\u001b[0m\n\u001b[1;32m   3413\u001b[0m             \u001b[0mcursor\u001b[0m \u001b[0;34m=\u001b[0m \u001b[0muproot\u001b[0m\u001b[0;34m.\u001b[0m\u001b[0msource\u001b[0m\u001b[0;34m.\u001b[0m\u001b[0mcursor\u001b[0m\u001b[0;34m.\u001b[0m\u001b[0mCursor\u001b[0m\u001b[0;34m(\u001b[0m\u001b[0mchunk\u001b[0m\u001b[0;34m.\u001b[0m\u001b[0mstart\u001b[0m\u001b[0;34m)\u001b[0m\u001b[0;34m\u001b[0m\u001b[0;34m\u001b[0m\u001b[0m\n\u001b[0;32m-> 3414\u001b[0;31m             basket = uproot.models.TBasket.Model_TBasket.read(\n\u001b[0m\u001b[1;32m   3415\u001b[0m                 \u001b[0mchunk\u001b[0m\u001b[0;34m,\u001b[0m\u001b[0;34m\u001b[0m\u001b[0;34m\u001b[0m\u001b[0m\n\u001b[1;32m   3416\u001b[0m                 \u001b[0mcursor\u001b[0m\u001b[0;34m,\u001b[0m\u001b[0;34m\u001b[0m\u001b[0;34m\u001b[0m\u001b[0m\n",
      "\u001b[0;32m/cvmfs/sft.cern.ch/lcg/views/LCG_104a_cuda/x86_64-centos7-gcc11-opt/lib/python3.9/site-packages/uproot/model.py\u001b[0m in \u001b[0;36mread\u001b[0;34m(cls, chunk, cursor, context, file, selffile, parent, concrete)\u001b[0m\n\u001b[1;32m    835\u001b[0m             )\n\u001b[1;32m    836\u001b[0m \u001b[0;34m\u001b[0m\u001b[0m\n\u001b[0;32m--> 837\u001b[0;31m             \u001b[0mself\u001b[0m\u001b[0;34m.\u001b[0m\u001b[0mread_members\u001b[0m\u001b[0;34m(\u001b[0m\u001b[0mchunk\u001b[0m\u001b[0;34m,\u001b[0m \u001b[0mcursor\u001b[0m\u001b[0;34m,\u001b[0m \u001b[0mcontext\u001b[0m\u001b[0;34m,\u001b[0m \u001b[0mfile\u001b[0m\u001b[0;34m)\u001b[0m\u001b[0;34m\u001b[0m\u001b[0;34m\u001b[0m\u001b[0m\n\u001b[0m\u001b[1;32m    838\u001b[0m \u001b[0;34m\u001b[0m\u001b[0m\n\u001b[1;32m    839\u001b[0m             self.hook_after_read_members(\n",
      "\u001b[0;32m/cvmfs/sft.cern.ch/lcg/views/LCG_104a_cuda/x86_64-centos7-gcc11-opt/lib/python3.9/site-packages/uproot/models/TBasket.py\u001b[0m in \u001b[0;36mread_members\u001b[0;34m(self, chunk, cursor, context, file)\u001b[0m\n\u001b[1;32m    284\u001b[0m             \u001b[0;32mif\u001b[0m \u001b[0mcompressed_bytes\u001b[0m \u001b[0;34m!=\u001b[0m \u001b[0muncompressed_bytes\u001b[0m\u001b[0;34m:\u001b[0m\u001b[0;34m\u001b[0m\u001b[0;34m\u001b[0m\u001b[0m\n\u001b[1;32m    285\u001b[0m                 \u001b[0mself\u001b[0m\u001b[0;34m.\u001b[0m\u001b[0m_block_compression_info\u001b[0m \u001b[0;34m=\u001b[0m \u001b[0;34m[\u001b[0m\u001b[0;34m]\u001b[0m\u001b[0;34m\u001b[0m\u001b[0;34m\u001b[0m\u001b[0m\n\u001b[0;32m--> 286\u001b[0;31m                 uncompressed = uproot.compression.decompress(\n\u001b[0m\u001b[1;32m    287\u001b[0m                     \u001b[0mchunk\u001b[0m\u001b[0;34m,\u001b[0m\u001b[0;34m\u001b[0m\u001b[0;34m\u001b[0m\u001b[0m\n\u001b[1;32m    288\u001b[0m                     \u001b[0mcursor\u001b[0m\u001b[0;34m,\u001b[0m\u001b[0;34m\u001b[0m\u001b[0;34m\u001b[0m\u001b[0m\n",
      "\u001b[0;32m/cvmfs/sft.cern.ch/lcg/views/LCG_104a_cuda/x86_64-centos7-gcc11-opt/lib/python3.9/site-packages/uproot/compression.py\u001b[0m in \u001b[0;36mdecompress\u001b[0;34m(chunk, cursor, context, compressed_bytes, uncompressed_bytes, block_info)\u001b[0m\n\u001b[1;32m    411\u001b[0m             )\n\u001b[1;32m    412\u001b[0m \u001b[0;34m\u001b[0m\u001b[0m\n\u001b[0;32m--> 413\u001b[0;31m         uncompressed_bytestring = decompressor.decompress(\n\u001b[0m\u001b[1;32m    414\u001b[0m             \u001b[0mdata\u001b[0m\u001b[0;34m,\u001b[0m \u001b[0mblock_uncompressed_bytes\u001b[0m\u001b[0;34m\u001b[0m\u001b[0;34m\u001b[0m\u001b[0m\n\u001b[1;32m    415\u001b[0m         )\n",
      "\u001b[0;32m/cvmfs/sft.cern.ch/lcg/views/LCG_104a_cuda/x86_64-centos7-gcc11-opt/lib/python3.9/site-packages/uproot/compression.py\u001b[0m in \u001b[0;36mdecompress\u001b[0;34m(self, data, uncompressed_bytes)\u001b[0m\n\u001b[1;32m     91\u001b[0m         \u001b[0;32mimport\u001b[0m \u001b[0mzlib\u001b[0m\u001b[0;34m\u001b[0m\u001b[0;34m\u001b[0m\u001b[0m\n\u001b[1;32m     92\u001b[0m \u001b[0;34m\u001b[0m\u001b[0m\n\u001b[0;32m---> 93\u001b[0;31m         \u001b[0;32mreturn\u001b[0m \u001b[0mzlib\u001b[0m\u001b[0;34m.\u001b[0m\u001b[0mdecompress\u001b[0m\u001b[0;34m(\u001b[0m\u001b[0mdata\u001b[0m\u001b[0;34m)\u001b[0m\u001b[0;34m\u001b[0m\u001b[0;34m\u001b[0m\u001b[0m\n\u001b[0m\u001b[1;32m     94\u001b[0m \u001b[0;34m\u001b[0m\u001b[0m\n\u001b[1;32m     95\u001b[0m \u001b[0;34m\u001b[0m\u001b[0m\n",
      "\u001b[0;31mKeyboardInterrupt\u001b[0m: "
     ]
    }
   ],
   "source": [
    "%%time\n",
    "input_data = input_file[\"jetntuple/tree\"].arrays(\n",
    "#    filter_name = \"/(jet)_(pt|eta|phi|bjetscore)/\", \n",
    "    filter_name = \"/(jet)_(eta|phi|pt|pt_raw|mass|energy|px|py|pz|bjetscore|reject|tauflav|muflav|elflav|taudecaymode|lepflav|taucharge|genmatch_pt|genmatch_eta|genmatch_phi|genmatch_mass|genmatch_hflav|genmatch_pflav|npfcand|pfcand_pt|pfcand_px|pfcand_py|pfcand_pz|pfcand_pt_log|pfcand_eta|pfcand_phi|pfcand_mass|pfcand_energy|pfcand_energy_log|pfcand_puppiweight|pfcand_z0|pfcand_dxy|pfcand_dxy_custom|pfcand_id|pfcand_charge|pfcand_pperp_ratio|pfcand_ppara_ratio|pfcand_deta|pfcand_dphi|pfcand_etarel|pfcand_track_chi2|pfcand_track_chi2norm|pfcand_track_qual|pfcand_track_npar|pfcand_track_nstubs|pfcand_track_vx|pfcand_track_vy|pfcand_track_vz|pfcand_track_pterror|pfcand_cluster_hovere|pfcand_cluster_sigmarr|pfcand_cluster_abszbarycenter|pfcand_cluster_emet|pfcand_cluster_egvspion|pfcand_cluster_egvspu)/\", \n",
    "    #entry_stop = 1e1, \n",
    "    how = \"zip\"\n",
    ")"
   ]
  },
  {
   "cell_type": "markdown",
   "id": "3bd923e1",
   "metadata": {},
   "source": [
    "Note how each object is grouped in a respective field:"
   ]
  },
  {
   "cell_type": "code",
   "execution_count": 11,
   "id": "a124b852",
   "metadata": {},
   "outputs": [
    {
     "name": "stdout",
     "output_type": "stream",
     "text": [
      "1096189\n"
     ]
    }
   ],
   "source": [
    "print(len(input_data))"
   ]
  },
  {
   "cell_type": "code",
   "execution_count": 12,
   "id": "39ca6096",
   "metadata": {},
   "outputs": [],
   "source": [
    "input_data.fields;"
   ]
  },
  {
   "cell_type": "markdown",
   "id": "450afb99",
   "metadata": {},
   "source": [
    "And the pfcand variables are accesible at the next level (this is a result of using `how=\"zip\"` when loading)"
   ]
  },
  {
   "cell_type": "code",
   "execution_count": 13,
   "id": "a8b7ad2f",
   "metadata": {},
   "outputs": [],
   "source": [
    "input_data.jet_pfcand.fields;"
   ]
  },
  {
   "cell_type": "code",
   "execution_count": 14,
   "id": "137695d6",
   "metadata": {},
   "outputs": [],
   "source": [
    "input_data = input_data[(input_data[\"jet_pt\"] > 15) & (input_data[\"jet_pt\"] < 1000) & (np.abs(input_data[\"jet_eta\"]) < 2.4)]"
   ]
  },
  {
   "cell_type": "code",
   "execution_count": 16,
   "id": "611bd6fe",
   "metadata": {},
   "outputs": [
    {
     "name": "stdout",
     "output_type": "stream",
     "text": [
      "757351\n"
     ]
    }
   ],
   "source": [
    "print(len(input_data))"
   ]
  },
  {
   "cell_type": "code",
   "execution_count": 17,
   "id": "fe15e66d",
   "metadata": {},
   "outputs": [],
   "source": [
    "def compute_selection_mask(events, selection_string):\n",
    "    mask = None\n",
    "    for sel_token in selection_string.split(\"&\"):\n",
    "        sign_match_obj = re.search(r\"(>=|<=|==|!=|>|<|=)\", sel_token)\n",
    "        sign = sel_token[sign_match_obj.start(): sign_match_obj.end()]\n",
    "        field = sel_token[:sign_match_obj.start()].strip()\n",
    "        value = float(sel_token[sign_match_obj.end():].strip())\n",
    "        \n",
    "        if field in events.fields:\n",
    "            field_array = events[field]\n",
    "        else:\n",
    "            if re.match(\"[a-zA-Z]+\\(.+\\)$\", field):\n",
    "                left_parenthesis_index = field.index(\"(\")\n",
    "                field_name = field[left_parenthesis_index+1:-1]\n",
    "                func = field[:left_parenthesis_index]\n",
    "                if func == \"abs\":\n",
    "                    field_array = abs(events[field_name])\n",
    "                else:\n",
    "                    raise NotImplementedError(\"not implemented function: {}\".format(func))\n",
    "            else:\n",
    "                raise ValueError(\"unrecognized field format: {}\".format(field))        \n",
    "        \n",
    "        if sign == \"=\" or sign == \"==\":\n",
    "            this_mask = (field_array == value)\n",
    "        elif sign == \">\":\n",
    "            this_mask = (field_array > value)\n",
    "        elif sign == \"<\":\n",
    "            this_mask = (field_array < value)\n",
    "        elif sign == \">=\":\n",
    "            this_mask = (field_array >= value)\n",
    "        elif sign == \"<=\":\n",
    "            this_mask = (field_array <= value)\n",
    "        elif sign == \"!=\":\n",
    "            this_mask = (field_array != value)\n",
    "        else:\n",
    "            raise ValueError(\"unrecognized sign: {}\".format(sign))\n",
    "                         \n",
    "        if mask is None:\n",
    "            mask = this_mask\n",
    "        else:\n",
    "            mask = mask & this_mask\n",
    "    return mask"
   ]
  },
  {
   "cell_type": "code",
   "execution_count": 26,
   "id": "6f45a13d",
   "metadata": {},
   "outputs": [],
   "source": [
    "flavour_selection_dict = {\n",
    "    \"b\": \"jet_genmatch_pt> -1 & jet_muflav=0 & jet_tauflav = 0 & jet_elflav = 0 & jet_genmatch_hflav = 5\",\n",
    "    #\"c\": \"jet_genmatch_pt> -1 & jet_muflav=0 & jet_tauflav = 0 & jet_elflav = 0 & jet_genmatch_hflav = 4\",\n",
    "    \"g\": \"jet_genmatch_pt> -1 & jet_muflav=0 & jet_tauflav = 0 & jet_elflav = 0 & abs(jet_genmatch_pflav) = 21 & jet_genmatch_hflav = 0\",\n",
    "    \"uds\": \"jet_genmatch_pt> -1 & jet_muflav=0 & jet_tauflav = 0 & jet_elflav = 0 & abs(jet_genmatch_pflav)  < 4 & abs(jet_genmatch_pflav) > 0\",\n",
    "    #\"tau\": \"jet_muflav=0 & jet_elflav=0 & jet_tauflav=1\",\n",
    "    #\"tau+\": \"jet_muflav=0 & jet_elflav=0 & jet_tauflav=1 & jet_taucharge>0\",\n",
    "    #\"tau-\": \"jet_muflav=0 & jet_elflav=0 & jet_tauflav=1 & jet_taucharge<0\",\n",
    "}"
   ]
  },
  {
   "cell_type": "code",
   "execution_count": 27,
   "id": "6175eaa3",
   "metadata": {},
   "outputs": [
    {
     "data": {
      "text/plain": [
       "dict_keys(['b', 'g', 'uds', 'unmatched'])"
      ]
     },
     "execution_count": 27,
     "metadata": {},
     "output_type": "execute_result"
    }
   ],
   "source": [
    "flavour_mask_dict = {flavour: compute_selection_mask(input_data, flavour_selection) \n",
    "                     for flavour, flavour_selection in flavour_selection_dict.items()}\n",
    "\n",
    "flavour_mask_unmatched = None\n",
    "for flavour, flavour_mask in flavour_mask_dict.items():\n",
    "    if flavour_mask_unmatched is None:\n",
    "        flavour_mask_unmatched = flavour_mask\n",
    "    flavour_mask_unmatched = flavour_mask_unmatched | flavour_mask\n",
    "\n",
    "flavour_mask_dict[\"unmatched\"] = ~flavour_mask_unmatched\n",
    "flavour_mask_dict.keys()"
   ]
  },
  {
   "cell_type": "code",
   "execution_count": 28,
   "id": "ff90696e",
   "metadata": {},
   "outputs": [],
   "source": [
    "input_data_dict = {flavour:input_data[mask] for flavour, mask in flavour_mask_dict.items()}"
   ]
  },
  {
   "cell_type": "code",
   "execution_count": 29,
   "id": "ebd5ac22",
   "metadata": {},
   "outputs": [
    {
     "name": "stdout",
     "output_type": "stream",
     "text": [
      "falvour: b length: 140391\n",
      "falvour: g length: 123413\n",
      "falvour: uds length: 149379\n",
      "falvour: unmatched length: 344237\n"
     ]
    }
   ],
   "source": [
    "for flavour, flavour_data in input_data_dict.items():\n",
    "    print(\"falvour: {} length: {}\".format(flavour, len(flavour_data)))"
   ]
  },
  {
   "cell_type": "code",
   "execution_count": 30,
   "id": "34753916",
   "metadata": {},
   "outputs": [],
   "source": [
    "# # Definition of signal (b jets)\n",
    "\n",
    "# condition_sig = (\n",
    "#     (data['jet_genmatch_pt'] > -1) &\n",
    "#     (data['jet_muflav'] == 0) &\n",
    "#     (data['jet_tauflav'] == 0) &\n",
    "#     (data['jet_elflav'] == 0) &\n",
    "#     (data['jet_genmatch_hflav'] == 5)\n",
    "# )\n",
    "\n",
    "# data_sig = data[condition_sig]\n",
    "\n",
    "# # Validation: check that signal only contains jets with hadron flavour 5\n",
    "# jethflav = ak.to_numpy(data_sig['jet_genmatch_hflav'])\n",
    "# flat_jethflav=jethflav.flatten()\n",
    "# type(flat_jethflav)\n",
    "# plt.hist(flat_jethflav, bins=np.arange(0, 10, 1), edgecolor='black')\n",
    "# plt.title('Distribution of jet hadron flavour')\n",
    "# plt.xlabel('jet_genmatch_hflav')\n",
    "# plt.ylabel('Frequency')\n",
    "# #hep.cms.label(data=False)\n",
    "# plt.show()"
   ]
  },
  {
   "cell_type": "code",
   "execution_count": 31,
   "id": "a3411161",
   "metadata": {},
   "outputs": [],
   "source": [
    "# # Definition of background (non-b jets)\n",
    "# condition_bkg = ~condition_sig\n",
    "\n",
    "# data_bkg = data[condition_bkg]\n",
    "\n",
    "# # Sanity check\n",
    "# print(\"Length of data:    \", len(data))\n",
    "# print(\"Length of data_sig:\", len(data_sig))\n",
    "# print(\"Length of data_bkg:\", len(data_bkg))"
   ]
  },
  {
   "cell_type": "markdown",
   "id": "e74a6cfa",
   "metadata": {},
   "source": [
    "To speed up the next steps, let us limit ourselves to 100k signal and 100k bkg jets:"
   ]
  },
  {
   "cell_type": "code",
   "execution_count": 32,
   "id": "7ccd209a",
   "metadata": {},
   "outputs": [
    {
     "name": "stdout",
     "output_type": "stream",
     "text": [
      "falvour: b length: 100000\n",
      "falvour: g length: 100000\n",
      "falvour: uds length: 100000\n",
      "falvour: unmatched length: 100000\n"
     ]
    }
   ],
   "source": [
    "Njets = 100000\n",
    "# # Pick randomly 100k signal jets\n",
    "# random_indices_sig = np.random.choice(len(data_sig), size=Njets, replace=False)\n",
    "# data_sig = data_sig[random_indices_sig]\n",
    "# print(\"Length of data_sig now:\", len(data_sig))\n",
    "# # Pick randomly 100k bkg jets\n",
    "# random_indices_bkg = np.random.choice(len(data_bkg), size=Njets, replace=False)\n",
    "# data_bkg = data_bkg[random_indices_bkg]\n",
    "# print(\"Length of data_bkg now:\", len(data_bkg))\n",
    "\n",
    "\n",
    "data_dict = dict()\n",
    "for flavour, flavour_data in input_data_dict.items():\n",
    "    random_indices = np.random.choice(len(flavour_data), size=Njets, replace=False)\n",
    "    data_dict[flavour] = flavour_data[random_indices ]\n",
    "    \n",
    "for flavour, flavour_data in data_dict.items():\n",
    "    print(\"falvour: {} length: {}\".format(flavour, len(flavour_data)))"
   ]
  },
  {
   "cell_type": "code",
   "execution_count": 33,
   "id": "1f2d87a7",
   "metadata": {},
   "outputs": [
    {
     "data": {
      "text/plain": [
       "100000 * {\"jet_eta\": float32, \"jet_phi\": float32, \"jet_pt\": float32, \"jet_pt_raw\": float32, \"jet_mass\": float32, \"jet_energy\": float32, \"jet_px\": float32, \"jet_py\": float32, \"jet_pz\": float32, \"jet_bjetscore\": float32, \"jet_reject\": bool, \"jet_tauflav\": int32, \"jet_muflav\": int32, \"jet_elflav\": int32, \"jet_taudecaymode\": int32, \"jet_lepflav\": int32, \"jet_taucharge\": int32, \"jet_genmatch_pt\": float32, \"jet_genmatch_eta\": float32, \"jet_genmatch_phi\": float32, \"jet_genmatch_mass\": float32, \"jet_genmatch_hflav\": uint32, \"jet_genmatch_pflav\": int32, \"jet_npfcand\": uint32, \"jet_pfcand\": var * {\"pt\": float32, \"px\": float32, \"py\": float32, \"pz\": float32, \"pt_log\": float32, \"eta\": float32, \"phi\": float32, \"mass\": float32, \"energy\": float32, \"energy_log\": float32, \"puppiweight\": float32, \"z0\": float32, \"dxy\": float32, \"dxy_custom\": float32, \"id\": uint32, \"charge\": int32, \"pperp_ratio\": float32, \"ppara_ratio\": float32, \"deta\": float32, \"dphi\": float32, \"etarel\": float32, \"track_chi2\": float32, \"track_chi2norm\": float32, \"track_qual\": float32, \"track_npar\": float32, \"track_nstubs\": float32, \"track_vx\": float32, \"track_vy\": float32, \"track_vz\": float32, \"track_pterror\": float32, \"cluster_hovere\": float32, \"cluster_sigmarr\": float32, \"cluster_abszbarycenter\": float32, \"cluster_emet\": float32, \"cluster_egvspion\": float32, \"cluster_egvspu\": float32}}"
      ]
     },
     "execution_count": 33,
     "metadata": {},
     "output_type": "execute_result"
    }
   ],
   "source": [
    "# Look at the structure of data\n",
    "data_dict[\"b\"].type"
   ]
  },
  {
   "cell_type": "markdown",
   "id": "b629046d",
   "metadata": {},
   "source": [
    "### Important: in DATA one has to only filter on `bx=0` for proper usage!\n",
    "Below is an example of how this can be achieved:\n",
    "\n",
    "We shall filter the `bx=0` L1 objects from the events -> need to add `bx` to the array reading step above.\n",
    "\n",
    "```python\n",
    "data_bkg_allBX = data_bkg\n",
    "\n",
    "bx = 0\n",
    "data_bkg_bx0 = {}\n",
    "\n",
    "for obj in data_bkg_allBX.fields:\n",
    "    # make a mask to filter out bx=0 only\n",
    "    bx_mask = data_bkg_allBX[obj].bx == bx\n",
    "    data_bkg_bx0[obj] = data_bkg_allBX[obj][bx_mask]\n",
    "    \n",
    "data_bkg = ak.Array(data_bkg_bx0)\n",
    "```"
   ]
  },
  {
   "cell_type": "markdown",
   "id": "473e44ca",
   "metadata": {},
   "source": [
    "## Inspect input data / plot distributions\n",
    "\n",
    "First, let's inspect the variables we are going to use. \n",
    "\n",
    "We will start with the jet constituent (pfcand) multiplicities:"
   ]
  },
  {
   "cell_type": "code",
   "execution_count": 34,
   "id": "1f5a5055",
   "metadata": {
    "scrolled": true
   },
   "outputs": [
    {
     "ename": "NameError",
     "evalue": "name 'data_bkg' is not defined",
     "output_type": "error",
     "traceback": [
      "\u001b[0;31m---------------------------------------------------------------------------\u001b[0m",
      "\u001b[0;31mNameError\u001b[0m                                 Traceback (most recent call last)",
      "\u001b[0;32m/tmp/ipykernel_7046/1279567393.py\u001b[0m in \u001b[0;36m<module>\u001b[0;34m\u001b[0m\n\u001b[1;32m      2\u001b[0m     \u001b[0mplt\u001b[0m\u001b[0;34m.\u001b[0m\u001b[0mfigure\u001b[0m\u001b[0;34m(\u001b[0m\u001b[0;34m)\u001b[0m\u001b[0;31m#figsize = (8,4))\u001b[0m\u001b[0;34m\u001b[0m\u001b[0;34m\u001b[0m\u001b[0m\n\u001b[1;32m      3\u001b[0m \u001b[0;34m\u001b[0m\u001b[0m\n\u001b[0;32m----> 4\u001b[0;31m     \u001b[0;32mfor\u001b[0m \u001b[0mlabel\u001b[0m\u001b[0;34m,\u001b[0m \u001b[0mdata\u001b[0m \u001b[0;32min\u001b[0m \u001b[0mzip\u001b[0m\u001b[0;34m(\u001b[0m\u001b[0;34m[\u001b[0m\u001b[0;34m\"bkg\"\u001b[0m\u001b[0;34m,\u001b[0m\u001b[0;34m\"sig\"\u001b[0m\u001b[0;34m]\u001b[0m\u001b[0;34m,\u001b[0m \u001b[0;34m[\u001b[0m\u001b[0mdata_bkg\u001b[0m\u001b[0;34m,\u001b[0m \u001b[0mdata_sig\u001b[0m\u001b[0;34m]\u001b[0m\u001b[0;34m)\u001b[0m\u001b[0;34m:\u001b[0m\u001b[0;34m\u001b[0m\u001b[0;34m\u001b[0m\u001b[0m\n\u001b[0m\u001b[1;32m      5\u001b[0m         \u001b[0mnum\u001b[0m \u001b[0;34m=\u001b[0m \u001b[0mak\u001b[0m\u001b[0;34m.\u001b[0m\u001b[0mnum\u001b[0m\u001b[0;34m(\u001b[0m\u001b[0mdata\u001b[0m\u001b[0;34m[\u001b[0m\u001b[0mobj\u001b[0m\u001b[0;34m]\u001b[0m\u001b[0;34m)\u001b[0m\u001b[0;34m\u001b[0m\u001b[0;34m\u001b[0m\u001b[0m\n\u001b[1;32m      6\u001b[0m         plt.hist(num, label = label, bins = range(30), density = True, \n",
      "\u001b[0;31mNameError\u001b[0m: name 'data_bkg' is not defined"
     ]
    },
    {
     "data": {
      "text/plain": [
       "<Figure size 432x288 with 0 Axes>"
      ]
     },
     "metadata": {},
     "output_type": "display_data"
    }
   ],
   "source": [
    "for obj in ['jet_pfcand']:\n",
    "    plt.figure()#figsize = (8,4))\n",
    "\n",
    "    for label, data in zip([\"bkg\",\"sig\"], [data_bkg, data_sig]):\n",
    "        num = ak.num(data[obj])\n",
    "        plt.hist(num, label = label, bins = range(30), density = True, \n",
    "                 #log = True, \n",
    "                 histtype = \"step\")\n",
    "        \n",
    "    plt.xlabel(f\"N of {obj}\")\n",
    "    plt.legend()\n",
    "#     plt.grid()"
   ]
  },
  {
   "cell_type": "markdown",
   "id": "5fc6fd72",
   "metadata": {},
   "source": [
    "Let us also plot the PUPPI weight of the leading-pt constituent:"
   ]
  },
  {
   "cell_type": "code",
   "execution_count": null,
   "id": "d669e0b0",
   "metadata": {
    "scrolled": false
   },
   "outputs": [],
   "source": [
    "for obj in [ 'jet_pfcand']:\n",
    "    plt.figure()#figsize = (8,4))\n",
    "\n",
    "    for label, data in zip([\"bkg\",\"sig\"], [data_bkg, data_sig]):\n",
    "        # notice the [:,:1] below -> we slice the array and select no more than the first entry per event\n",
    "        # ak.ravel makes the array flat such that we can fill a histogram\n",
    "        plt.hist(ak.ravel(data[obj].puppiweight[:,:1]), label = label, bins = 50, density = True, \n",
    "                 log = True, \n",
    "                 histtype = \"step\")\n",
    "        \n",
    "    plt.xlabel(f\"{obj} puppiweight\")\n",
    "    plt.legend()\n",
    "#     plt.grid()"
   ]
  },
  {
   "cell_type": "markdown",
   "id": "83a9c4ad",
   "metadata": {},
   "source": [
    "There surely is some discrimation power in these variables! :)\n",
    "\n",
    "Let's move over to the ML part, though we first need to preprocess the data / convert it into a flat format"
   ]
  },
  {
   "cell_type": "markdown",
   "id": "efacd82a",
   "metadata": {},
   "source": [
    "### Convert data to regular array for ML usage"
   ]
  },
  {
   "cell_type": "markdown",
   "id": "00b235c3",
   "metadata": {},
   "source": [
    "Due to the variable number of objects per event (except for the sums) we need to convert the data from the jagged format to a tabular (regular) format with the rows corresponding to events and the columns to the variables. \n",
    "\n",
    "For that we have to pick:\n",
    "1. An order of objects e.g. Sums, Jets, EG, Muons\n",
    "2. The variables for each\n",
    "3. The max number of objects we want to use\n",
    "4. The values to use to pad empty objects\n",
    "\n",
    "We can write this down in the following dictionary:"
   ]
  },
  {
   "cell_type": "code",
   "execution_count": 35,
   "id": "1b24152b",
   "metadata": {},
   "outputs": [],
   "source": [
    "# All PF candidate properties\n",
    "pfcand_fields_all = ['pt','px','py','pz','pt_log','eta','phi','mass','energy','energy_log','puppiweight','z0','dxy','dxy_custom','id','charge','pperp_ratio','ppara_ratio','deta','dphi','etarel','track_chi2','track_chi2norm','track_qual','track_npar','track_nstubs','track_vx','track_vy','track_vz','track_pterror','cluster_hovere','cluster_sigmarr','cluster_abszbarycenter','cluster_emet','cluster_egvspion','cluster_egvspu']\n",
    "# A slightly reduced set\n",
    "pfcand_fields = ['pt_log','eta','energy_log','puppiweight','z0','dxy_custom','id','pperp_ratio','ppara_ratio','deta','dphi','etarel','track_chi2norm','track_qual','track_nstubs','track_vx','track_vy','track_vz','track_pterror','cluster_hovere','cluster_sigmarr','cluster_abszbarycenter','cluster_emet']\n",
    "pfcand_fields = ['eta','puppiweight','z0','dxy_custom','id','pperp_ratio','ppara_ratio','deta','dphi','etarel','track_chi2norm','track_qual','track_nstubs','track_vx','track_vy','track_vz','track_pterror','cluster_hovere','cluster_sigmarr','cluster_abszbarycenter','cluster_emet']\n",
    "objects = [\n",
    "#    {\"name\" : \"jet\", \"key\" : \"L1Jet\", \"fields\" : [\"pt\", \"eta\", \"phi\"], \"n_obj\" : 8},\n",
    "    {\"name\" : \"pfcand\", \"key\" : \"jet_pfcand\", \"fields\" : pfcand_fields, \"n_obj\" : 16},\n",
    "]"
   ]
  },
  {
   "cell_type": "markdown",
   "id": "4ff17012",
   "metadata": {},
   "source": [
    "We will use dedicated functions to ease this conversion from jagged to regular format.\n",
    "\n",
    "These functions are taken from the end-to-end ML@L1 framework of the TOPO team:\n",
    "(authors: `@flabe` and `@alobanov`)\n",
    "\n",
    "https://gitlab.cern.ch/uhh-l1t/uhh_mlatl1_run3 "
   ]
  },
  {
   "cell_type": "code",
   "execution_count": 36,
   "id": "de37fdbf",
   "metadata": {},
   "outputs": [],
   "source": [
    "def getPadNParr(events, obj, n_pad, fields, cuts = None, name = None, pad_val = 0):\n",
    "    '''\n",
    "    This function filter objects and pads them to a certain length with a given value\n",
    "    '''\n",
    "    \n",
    "    objects = events[obj]\n",
    "    \n",
    "    if not name: name = obj\n",
    "    \n",
    "    # cuts are defined as a dictionary containing the relevant keys:\n",
    "    # cuttype, field and value\n",
    "    if cuts:\n",
    "        for cut in cuts:\n",
    "            if cut[\"cuttype\"] == \"equals\": objects = objects[objects[cut[\"field\"]] == cut[\"value\"]]\n",
    "            else: raise Exception(\"Cuttype {} is not implemented.\".format(cut[\"cuttype\"]))\n",
    "    \n",
    "    pad_arrs = []\n",
    "    var_names = []\n",
    "        \n",
    "    # padding with nones\n",
    "    pad_arr = ak.pad_none(objects, n_pad, clip=True)\n",
    "    \n",
    "    # combining to numpy\n",
    "    for i in range(n_pad):\n",
    "\n",
    "        for var in fields:\n",
    "            pad_arrs += [ak.to_numpy( ak.fill_none(pad_arr[var][:,i], pad_val) )]\n",
    "            var_names.append( \"{}_{}_{}\".format(name, i, var) )\n",
    "            \n",
    "    return np.stack(pad_arrs), var_names\n",
    "\n",
    "def formatDataTopotrigger(data, objects, verbosity = 0):\n",
    "    '''\n",
    "    This function concatenates the padded arrays for different objects.\n",
    "    It is controlled via a dictionary as defined above\n",
    "    '''\n",
    "    \n",
    "    # this will be filled by all required objects\n",
    "    dataList = [] \n",
    "    varList = []\n",
    "    \n",
    "    for obj in objects: \n",
    "        dat, names = getPadNParr(data, obj[\"key\"], obj[\"n_obj\"], obj[\"fields\"], obj[\"cuts\"] if \"cuts\" in obj else None, obj[\"name\"] )\n",
    "        dataList.append(dat)\n",
    "        varList += names\n",
    "        \n",
    "    if verbosity > 0:\n",
    "        print(\"The input variables are the following:\")\n",
    "        print(varList)\n",
    "                \n",
    "    # combining and returning (and transforming back so events are along the first axis...)\n",
    "    return np.concatenate(dataList, axis = 0).T, varList\n"
   ]
  },
  {
   "cell_type": "markdown",
   "id": "2a03383b",
   "metadata": {},
   "source": [
    "Let's first convert the signal data: "
   ]
  },
  {
   "cell_type": "code",
   "execution_count": 37,
   "id": "44e57d3f",
   "metadata": {},
   "outputs": [],
   "source": [
    "x_dict = {flavour: formatDataTopotrigger(data, objects, verbosity = 0)[0] for flavour, data in data_dict.items()}"
   ]
  },
  {
   "cell_type": "code",
   "execution_count": 38,
   "id": "1992afe1",
   "metadata": {},
   "outputs": [],
   "source": [
    "#x_sig, var_names = formatDataTopotrigger(data_sig, objects, verbosity = 99)"
   ]
  },
  {
   "cell_type": "code",
   "execution_count": 39,
   "id": "c6cdb488",
   "metadata": {},
   "outputs": [
    {
     "data": {
      "text/plain": [
       "(100000, 336)"
      ]
     },
     "execution_count": 39,
     "metadata": {},
     "output_type": "execute_result"
    }
   ],
   "source": [
    "x_dict[\"b\"].shape"
   ]
  },
  {
   "cell_type": "markdown",
   "id": "01bbc7e8",
   "metadata": {},
   "source": [
    "You can see that we have ~100k events and 368 variables.\n",
    "Let us do the same for the background sample:"
   ]
  },
  {
   "cell_type": "code",
   "execution_count": 40,
   "id": "84b7e686",
   "metadata": {},
   "outputs": [],
   "source": [
    "#x_bkg, var_names = formatDataTopotrigger(data_bkg, objects, verbosity = 0)"
   ]
  },
  {
   "cell_type": "code",
   "execution_count": 41,
   "id": "a2087d2f",
   "metadata": {},
   "outputs": [],
   "source": [
    "#x_bkg.shape"
   ]
  },
  {
   "cell_type": "markdown",
   "id": "345f68b8",
   "metadata": {},
   "source": [
    "And now we can compare the distributions of the input features. \n",
    "We will focus on the leading objects only:"
   ]
  },
  {
   "cell_type": "code",
   "execution_count": 42,
   "id": "7e9d6c17",
   "metadata": {
    "scrolled": true
   },
   "outputs": [
    {
     "ename": "NameError",
     "evalue": "name 'var_names' is not defined",
     "output_type": "error",
     "traceback": [
      "\u001b[0;31m---------------------------------------------------------------------------\u001b[0m",
      "\u001b[0;31mNameError\u001b[0m                                 Traceback (most recent call last)",
      "\u001b[0;32m/tmp/ipykernel_7046/2280503761.py\u001b[0m in \u001b[0;36m<module>\u001b[0;34m\u001b[0m\n\u001b[0;32m----> 1\u001b[0;31m \u001b[0;32mfor\u001b[0m \u001b[0mi\u001b[0m\u001b[0;34m,\u001b[0m\u001b[0mname\u001b[0m \u001b[0;32min\u001b[0m \u001b[0menumerate\u001b[0m\u001b[0;34m(\u001b[0m\u001b[0mvar_names\u001b[0m\u001b[0;34m[\u001b[0m\u001b[0;34m:\u001b[0m\u001b[0;36m100\u001b[0m\u001b[0;34m]\u001b[0m\u001b[0;34m)\u001b[0m\u001b[0;34m:\u001b[0m\u001b[0;34m\u001b[0m\u001b[0;34m\u001b[0m\u001b[0m\n\u001b[0m\u001b[1;32m      2\u001b[0m     \u001b[0;32mif\u001b[0m \u001b[0;34m\"_0_\"\u001b[0m \u001b[0;32mnot\u001b[0m \u001b[0;32min\u001b[0m \u001b[0mname\u001b[0m\u001b[0;34m:\u001b[0m \u001b[0;32mcontinue\u001b[0m\u001b[0;34m\u001b[0m\u001b[0;34m\u001b[0m\u001b[0m\n\u001b[1;32m      3\u001b[0m \u001b[0;34m\u001b[0m\u001b[0m\n\u001b[1;32m      4\u001b[0m     \u001b[0mplt\u001b[0m\u001b[0;34m.\u001b[0m\u001b[0mfigure\u001b[0m\u001b[0;34m(\u001b[0m\u001b[0;34m)\u001b[0m\u001b[0;34m\u001b[0m\u001b[0;34m\u001b[0m\u001b[0m\n\u001b[1;32m      5\u001b[0m \u001b[0;34m\u001b[0m\u001b[0m\n",
      "\u001b[0;31mNameError\u001b[0m: name 'var_names' is not defined"
     ]
    }
   ],
   "source": [
    "for i,name in enumerate(var_names[:100]):\n",
    "    if \"_0_\" not in name: continue\n",
    "        \n",
    "    plt.figure()\n",
    "    \n",
    "    _ = plt.hist(x_bkg[:,i], bins = 50, log = True, density = True, label = \"Bkg\")\n",
    "    _ = plt.hist(x_sig[:,i], bins = _[1], histtype = \"step\", density = True, label = \"Sig\")\n",
    "    \n",
    "    plt.xlabel(name)\n",
    "    plt.legend()\n",
    "    plt.show()\n",
    "    plt.close()\n",
    "#     break"
   ]
  },
  {
   "cell_type": "markdown",
   "id": "719d20d9",
   "metadata": {},
   "source": [
    "You can see now that for the non-sum objects we have peaks at 0 as this was the `pad_val` padding value for filling empty variables."
   ]
  },
  {
   "cell_type": "markdown",
   "id": "210d5973",
   "metadata": {},
   "source": [
    "### Final preprocessing: concatenating sig/bkg, scaling and train/test splitting\n",
    "\n",
    "Finally, we have to concatenate the signal and background arrays:"
   ]
  },
  {
   "cell_type": "code",
   "execution_count": 43,
   "id": "1e9e34f8",
   "metadata": {},
   "outputs": [],
   "source": [
    "# creating labels\n",
    "# y_bkg = np.zeros(len(x_bkg))\n",
    "# y_sig = np.ones(len(x_sig))\n",
    "\n",
    "y_dict = {flavour:(index+1)*np.ones(len(x_dict[flavour])) \n",
    "          if flavour != \"unmatched\" else np.zeros(len(x_dict[flavour])) \n",
    "          for index, flavour in enumerate(x_dict.keys())}"
   ]
  },
  {
   "cell_type": "code",
   "execution_count": 44,
   "id": "283dfec8",
   "metadata": {},
   "outputs": [],
   "source": [
    "x = np.concatenate(tuple(x_dict.values()))\n",
    "y = np.concatenate(tuple(y_dict.values()))\n",
    "y = tf.keras.utils.to_categorical(y)"
   ]
  },
  {
   "cell_type": "code",
   "execution_count": 45,
   "id": "14d8d6fb",
   "metadata": {},
   "outputs": [
    {
     "name": "stdout",
     "output_type": "stream",
     "text": [
      "b 100000 100000\n",
      "g 100000 100000\n",
      "uds 100000 100000\n",
      "unmatched 100000 100000\n"
     ]
    }
   ],
   "source": [
    "for flavour in x_dict.keys():\n",
    "    print(flavour, len(x_dict[flavour]), len(y_dict[flavour]))"
   ]
  },
  {
   "cell_type": "markdown",
   "id": "aca98ad2",
   "metadata": {},
   "source": [
    "Then, we need to scale / normalise the inputs to be able to use them together in the NN training"
   ]
  },
  {
   "cell_type": "code",
   "execution_count": 46,
   "id": "16d879d6",
   "metadata": {},
   "outputs": [],
   "source": [
    "from sklearn.preprocessing import StandardScaler\n",
    "\n",
    "scaler = StandardScaler()\n",
    "_ = scaler.fit(x)\n",
    "x_scaled = scaler.transform(x)"
   ]
  },
  {
   "cell_type": "markdown",
   "id": "2ebeb6e2",
   "metadata": {},
   "source": [
    "We will save the scaler and data for the next parts:"
   ]
  },
  {
   "cell_type": "code",
   "execution_count": 47,
   "id": "1c56ff28",
   "metadata": {},
   "outputs": [],
   "source": [
    "# make directory\n",
    "outdir = \"part1_outputs_multijettagging/\"\n",
    "if not os.path.exists(outdir):\n",
    "    os.makedirs(outdir)"
   ]
  },
  {
   "cell_type": "code",
   "execution_count": 48,
   "id": "1dc9fc30",
   "metadata": {},
   "outputs": [],
   "source": [
    "with open(outdir+\"scaler.pkl\", 'wb') as file_pi: \n",
    "    pickle.dump(scaler, file_pi)"
   ]
  },
  {
   "cell_type": "markdown",
   "id": "3eba9a91",
   "metadata": {},
   "source": [
    "And split dataset to train/test samples"
   ]
  },
  {
   "cell_type": "code",
   "execution_count": 49,
   "id": "d2b321d3",
   "metadata": {},
   "outputs": [],
   "source": [
    "from sklearn.model_selection import train_test_split\n",
    "X_train, X_test, y_train, y_test = train_test_split(x_scaled, y, test_size=0.2)"
   ]
  },
  {
   "cell_type": "markdown",
   "id": "8539cd0e",
   "metadata": {},
   "source": [
    "We will save the train/test data now using awkward's `to_parquet` function:"
   ]
  },
  {
   "cell_type": "code",
   "execution_count": 50,
   "id": "c7258b22",
   "metadata": {},
   "outputs": [],
   "source": [
    "ak.to_parquet(X_train, outdir+\"X_train_scaled.parquet\")\n",
    "ak.to_parquet(y_train, outdir+\"y_train_scaled.parquet\")"
   ]
  },
  {
   "cell_type": "code",
   "execution_count": 51,
   "id": "9531aaa2",
   "metadata": {},
   "outputs": [],
   "source": [
    "ak.to_parquet(X_test, outdir+\"X_test_scaled.parquet\")\n",
    "ak.to_parquet(y_test, outdir+\"y_test_scaled.parquet\")"
   ]
  },
  {
   "cell_type": "code",
   "execution_count": 52,
   "id": "984e7024",
   "metadata": {},
   "outputs": [
    {
     "name": "stdout",
     "output_type": "stream",
     "text": [
      "total 190M\r\n",
      "-rw-r--r--. 1 pinkaew 1399 8.4K Dec 14 11:44 scaler.pkl\r\n",
      "-rw-r--r--. 1 pinkaew 1399  95M Dec 14 11:44 X_train_scaled.parquet\r\n",
      "-rw-r--r--. 1 pinkaew 1399  14K Dec 14 11:44 y_train_scaled.parquet\r\n",
      "-rw-r--r--. 1 pinkaew 1399  95M Dec 14 11:44 X_test_scaled.parquet\r\n",
      "-rw-r--r--. 1 pinkaew 1399  14K Dec 14 11:44 y_test_scaled.parquet\r\n",
      "-rw-r--r--. 1 pinkaew 1399  59K Dec 14 12:05 model.h5\r\n",
      "-rw-r--r--. 1 pinkaew 1399  61K Dec 14 12:05 history.pkl\r\n",
      "-rw-r--r--. 1 pinkaew 1399 598K Dec 14 12:06 y_test_pred.parquet\r\n"
     ]
    }
   ],
   "source": [
    "! ls -lthr part1_outputs_btagging"
   ]
  },
  {
   "cell_type": "code",
   "execution_count": null,
   "id": "a9153b3a",
   "metadata": {},
   "outputs": [],
   "source": [
    "#X_train = ak.from_parquet(outdir+\"X_train_scaled.parquet\").to_numpy()\n",
    "#y_train = ak.from_parquet(outdir+\"y_train_scaled.parquet\").to_numpy()\n",
    "#X_test = ak.from_parquet(outdir+\"X_test_scaled.parquet\").to_numpy()\n",
    "#y_test = ak.from_parquet(outdir+\"y_test_scaled.parquet\").to_numpy()"
   ]
  },
  {
   "cell_type": "markdown",
   "id": "931b90b6",
   "metadata": {},
   "source": [
    "These files can be read with `ak.read_parquet(\"filename.parquet\")` afterwards."
   ]
  },
  {
   "cell_type": "markdown",
   "id": "7cdee613",
   "metadata": {},
   "source": [
    "# 2. Train NN classifier"
   ]
  },
  {
   "cell_type": "markdown",
   "id": "d7fb82f9",
   "metadata": {},
   "source": [
    "Now we can move one to the NN training. \n",
    "We will use a simple fully-connected 3 layer network with 64/32/32 nodes following the HLS4ML tutorial: https://github.com/fastmachinelearning/hls4ml-tutorial/blob/main/part1_getting_started.ipynb"
   ]
  },
  {
   "cell_type": "code",
   "execution_count": 94,
   "id": "bac16b99",
   "metadata": {},
   "outputs": [],
   "source": [
    "model = Sequential()\n",
    "model.add(Dense(64, input_shape=(X_train.shape[1],), name='fc1', kernel_initializer='lecun_uniform', kernel_regularizer=l1(0.0001)))\n",
    "model.add(Activation(activation='gelu', name='gelu1'))\n",
    "model.add(Dense(32, name='fc2', kernel_initializer='lecun_uniform', kernel_regularizer=l1(0.0001)))\n",
    "model.add(Activation(activation='gelu', name='gelu2'))\n",
    "model.add(Dense(32, name='fc3', kernel_initializer='lecun_uniform', kernel_regularizer=l1(0.0001)))\n",
    "model.add(Activation(activation='gelu', name='gelu3'))\n",
    "model.add(Dense(len(y_dict.keys()), name='output', kernel_initializer='lecun_uniform', kernel_regularizer=l1(0.0001)))\n",
    "model.add(Activation(activation='sigmoid', name='sigmoid'))"
   ]
  },
  {
   "cell_type": "code",
   "execution_count": 95,
   "id": "6981a835",
   "metadata": {},
   "outputs": [],
   "source": [
    "adam = Adam(learning_rate=5e-4)\n",
    "model.compile(optimizer=adam, loss=['categorical_crossentropy'], metrics=['accuracy'])"
   ]
  },
  {
   "cell_type": "code",
   "execution_count": 96,
   "id": "010b6447",
   "metadata": {},
   "outputs": [
    {
     "name": "stdout",
     "output_type": "stream",
     "text": [
      "Model: \"sequential_4\"\n",
      "_________________________________________________________________\n",
      " Layer (type)                Output Shape              Param #   \n",
      "=================================================================\n",
      " fc1 (Dense)                 (None, 64)                21568     \n",
      "                                                                 \n",
      " gelu1 (Activation)          (None, 64)                0         \n",
      "                                                                 \n",
      " fc2 (Dense)                 (None, 32)                2080      \n",
      "                                                                 \n",
      " gelu2 (Activation)          (None, 32)                0         \n",
      "                                                                 \n",
      " fc3 (Dense)                 (None, 32)                1056      \n",
      "                                                                 \n",
      " gelu3 (Activation)          (None, 32)                0         \n",
      "                                                                 \n",
      " output (Dense)              (None, 4)                 132       \n",
      "                                                                 \n",
      " sigmoid (Activation)        (None, 4)                 0         \n",
      "                                                                 \n",
      "=================================================================\n",
      "Total params: 24,836\n",
      "Trainable params: 24,836\n",
      "Non-trainable params: 0\n",
      "_________________________________________________________________\n",
      "None\n"
     ]
    }
   ],
   "source": [
    "print(model.summary())"
   ]
  },
  {
   "cell_type": "markdown",
   "id": "7269f965",
   "metadata": {},
   "source": [
    "Next, we will train the model with 10 epochs and record the history"
   ]
  },
  {
   "cell_type": "code",
   "execution_count": 97,
   "id": "b7a0dfa4",
   "metadata": {},
   "outputs": [
    {
     "data": {
      "text/plain": [
       "(320000, 336)"
      ]
     },
     "execution_count": 97,
     "metadata": {},
     "output_type": "execute_result"
    }
   ],
   "source": [
    "X_train.shape"
   ]
  },
  {
   "cell_type": "code",
   "execution_count": 98,
   "id": "bc1c688e",
   "metadata": {},
   "outputs": [
    {
     "data": {
      "text/plain": [
       "(320000, 4)"
      ]
     },
     "execution_count": 98,
     "metadata": {},
     "output_type": "execute_result"
    }
   ],
   "source": [
    "y_train.shape"
   ]
  },
  {
   "cell_type": "code",
   "execution_count": 99,
   "id": "6a52782b",
   "metadata": {},
   "outputs": [],
   "source": [
    "callbacks = [keras.callbacks.EarlyStopping(monitor=\"val_accuracy\", patience=3)]"
   ]
  },
  {
   "cell_type": "code",
   "execution_count": 100,
   "id": "e276a245",
   "metadata": {
    "scrolled": true
   },
   "outputs": [
    {
     "name": "stdout",
     "output_type": "stream",
     "text": [
      "Epoch 1/100\n",
      "250/250 [==============================] - 4s 8ms/step - loss: 1.3533 - accuracy: 0.4410 - val_loss: 1.2852 - val_accuracy: 0.4775\n",
      "Epoch 2/100\n",
      "250/250 [==============================] - 1s 6ms/step - loss: 1.2568 - accuracy: 0.4894 - val_loss: 1.2344 - val_accuracy: 0.4976\n",
      "Epoch 3/100\n",
      "250/250 [==============================] - 2s 6ms/step - loss: 1.2176 - accuracy: 0.5031 - val_loss: 1.2069 - val_accuracy: 0.5067\n",
      "Epoch 4/100\n",
      "250/250 [==============================] - 1s 6ms/step - loss: 1.1974 - accuracy: 0.5077 - val_loss: 1.1925 - val_accuracy: 0.5104\n",
      "Epoch 5/100\n",
      "250/250 [==============================] - 1s 6ms/step - loss: 1.1850 - accuracy: 0.5116 - val_loss: 1.1826 - val_accuracy: 0.5130\n",
      "Epoch 6/100\n",
      "250/250 [==============================] - 1s 6ms/step - loss: 1.1762 - accuracy: 0.5142 - val_loss: 1.1751 - val_accuracy: 0.5157\n",
      "Epoch 7/100\n",
      "250/250 [==============================] - 1s 6ms/step - loss: 1.1701 - accuracy: 0.5154 - val_loss: 1.1698 - val_accuracy: 0.5165\n",
      "Epoch 8/100\n",
      "250/250 [==============================] - 1s 6ms/step - loss: 1.1646 - accuracy: 0.5174 - val_loss: 1.1657 - val_accuracy: 0.5169\n",
      "Epoch 9/100\n",
      "250/250 [==============================] - 1s 6ms/step - loss: 1.1608 - accuracy: 0.5182 - val_loss: 1.1625 - val_accuracy: 0.5184\n",
      "Epoch 10/100\n",
      "250/250 [==============================] - 1s 6ms/step - loss: 1.1578 - accuracy: 0.5186 - val_loss: 1.1595 - val_accuracy: 0.5178\n",
      "Epoch 11/100\n",
      "250/250 [==============================] - 1s 6ms/step - loss: 1.1546 - accuracy: 0.5198 - val_loss: 1.1587 - val_accuracy: 0.5159\n",
      "Epoch 12/100\n",
      "250/250 [==============================] - 1s 6ms/step - loss: 1.1520 - accuracy: 0.5202 - val_loss: 1.1541 - val_accuracy: 0.5207\n",
      "Epoch 13/100\n",
      "250/250 [==============================] - 1s 6ms/step - loss: 1.1495 - accuracy: 0.5204 - val_loss: 1.1517 - val_accuracy: 0.5210\n",
      "Epoch 14/100\n",
      "250/250 [==============================] - 1s 6ms/step - loss: 1.1471 - accuracy: 0.5215 - val_loss: 1.1501 - val_accuracy: 0.5209\n",
      "Epoch 15/100\n",
      "250/250 [==============================] - 1s 6ms/step - loss: 1.1457 - accuracy: 0.5213 - val_loss: 1.1496 - val_accuracy: 0.5210\n",
      "Epoch 16/100\n",
      "250/250 [==============================] - 1s 6ms/step - loss: 1.1438 - accuracy: 0.5221 - val_loss: 1.1488 - val_accuracy: 0.5192\n",
      "Epoch 17/100\n",
      "250/250 [==============================] - 1s 6ms/step - loss: 1.1420 - accuracy: 0.5223 - val_loss: 1.1469 - val_accuracy: 0.5208\n",
      "Epoch 18/100\n",
      "250/250 [==============================] - 1s 6ms/step - loss: 1.1410 - accuracy: 0.5230 - val_loss: 1.1461 - val_accuracy: 0.5207\n",
      "CPU times: user 33.9 s, sys: 6.44 s, total: 40.3 s\n",
      "Wall time: 29.7 s\n"
     ]
    }
   ],
   "source": [
    "%%time\n",
    "history = model.fit(\n",
    "    X_train,\n",
    "    y_train,\n",
    "    batch_size=1024,\n",
    "    epochs=100,\n",
    "    validation_split=0.20,\n",
    "    shuffle=True,\n",
    "    callbacks=[callbacks],\n",
    ")"
   ]
  },
  {
   "cell_type": "markdown",
   "id": "6c1bf943",
   "metadata": {},
   "source": [
    "We will save the model and history too:"
   ]
  },
  {
   "cell_type": "code",
   "execution_count": 101,
   "id": "62a0dac1",
   "metadata": {},
   "outputs": [],
   "source": [
    "model.save(outdir + \"/model.h5\")\n",
    "\n",
    "with open(outdir + \"/history.pkl\", 'wb') as file_pi: pickle.dump(history, file_pi)"
   ]
  },
  {
   "cell_type": "code",
   "execution_count": 102,
   "id": "f7fc9eaf",
   "metadata": {},
   "outputs": [],
   "source": [
    "#from keras.models import load_model\n",
    "#model = load_model(outdir + \"/model.h5\")"
   ]
  },
  {
   "cell_type": "code",
   "execution_count": 103,
   "id": "b82d129e",
   "metadata": {},
   "outputs": [],
   "source": [
    "#with open(outdir + \"/history.pkl\", \"rb\") as f:\n",
    "#    history = pickle.load(f)"
   ]
  },
  {
   "cell_type": "markdown",
   "id": "0e6c5389",
   "metadata": {},
   "source": [
    "Below is a convenience function to plot the training history"
   ]
  },
  {
   "cell_type": "code",
   "execution_count": 104,
   "id": "70ad2760",
   "metadata": {},
   "outputs": [],
   "source": [
    "def plotTrainingHistory(history, metrics = [\"loss\", \"accuracy\"], f = None, axs = None):\n",
    "    \n",
    "    # creating the plot\n",
    "    if not f and not axs:\n",
    "        f, axs = plt.subplots(len(metrics), 1, figsize = (12, 4*len(metrics)), sharex = True)\n",
    "    if len(metrics) == 1:\n",
    "        axs = [axs]\n",
    "    plt.subplots_adjust(wspace=0, hspace=0)\n",
    "\n",
    "    # labeling\n",
    "#     hep.cms.label(\"private work\", data=False, ax=axs[0])\n",
    "\n",
    "    for i in range(len(metrics)):\n",
    "        \n",
    "        metric = metrics[i]\n",
    "        ax = axs[i]\n",
    "        ax.set_ylabel(metric)\n",
    "        \n",
    "        if isinstance(history, list): # handle kfold\n",
    "            for foldi in range(len(history)):\n",
    "                ax.plot(history[foldi].history[metric], color = \"C{}\".format(foldi))\n",
    "                ax.plot(history[foldi].history['val_' + metric], color = \"C{}\".format(foldi), linestyle = \"--\")\n",
    "                \n",
    "            la2, = ax.plot([0,0], [0,0], color=\"Grey\")\n",
    "            lb2, = ax.plot([0,0], [0,0], color=\"Grey\", linestyle = \"--\")\n",
    "            ax.legend([la2, lb2], [\"training\", \"validation\"])\n",
    "        else: \n",
    "            xs = np.arange(len(history.history['val_' + metric]))\n",
    "            ax.plot(xs,history.history[metric], label = 'training')\n",
    "            ax.plot(xs+.5, history.history['val_' + metric], label= 'validation')\n",
    "            ax.legend()\n",
    "\n",
    "    axs[-1].set_xlabel(\"Epoch\")\n",
    "    \n",
    "    return f, axs\n"
   ]
  },
  {
   "cell_type": "code",
   "execution_count": 105,
   "id": "6b347b20",
   "metadata": {},
   "outputs": [
    {
     "data": {
      "image/png": "[encoded data removed]",
      "text/plain": [
       "<Figure size 864x576 with 2 Axes>"
      ]
     },
     "metadata": {
      "needs_background": "light"
     },
     "output_type": "display_data"
    }
   ],
   "source": [
    "fig = plotTrainingHistory(history)"
   ]
  },
  {
   "cell_type": "markdown",
   "id": "4dcd1687",
   "metadata": {},
   "source": [
    "~~We can see that the model converges nicely and does not seem to overtrain.~~"
   ]
  },
  {
   "cell_type": "markdown",
   "id": "028b83c3",
   "metadata": {},
   "source": [
    "### Make ROC"
   ]
  },
  {
   "cell_type": "markdown",
   "id": "06a67602",
   "metadata": {},
   "source": [
    "Next, we will make a ROC curve for the test dataset:"
   ]
  },
  {
   "cell_type": "code",
   "execution_count": 106,
   "id": "2e7bdf29",
   "metadata": {},
   "outputs": [
    {
     "name": "stdout",
     "output_type": "stream",
     "text": [
      "2500/2500 [==============================] - 5s 2ms/step\n",
      "CPU times: user 7.22 s, sys: 1.3 s, total: 8.52 s\n",
      "Wall time: 7.36 s\n"
     ]
    }
   ],
   "source": [
    "%%time\n",
    "y_test_pred = model.predict(X_test)"
   ]
  },
  {
   "cell_type": "code",
   "execution_count": 107,
   "id": "61b9af99",
   "metadata": {},
   "outputs": [],
   "source": [
    "# Save predictions:\n",
    "ak.to_parquet(y_test_pred, outdir+\"y_test_pred.parquet\")"
   ]
  },
  {
   "cell_type": "code",
   "execution_count": 125,
   "id": "63c8991b",
   "metadata": {},
   "outputs": [
    {
     "data": {
      "text/plain": [
       "array([[0.21531929, 0.29319078, 0.19414788, 0.29734206],\n",
       "       [0.22341822, 0.29180378, 0.18635212, 0.29842588],\n",
       "       [0.19909209, 0.30996287, 0.21144111, 0.27950397],\n",
       "       ...,\n",
       "       [0.2656508 , 0.1942378 , 0.2846872 , 0.25542414],\n",
       "       [0.28244457, 0.18848315, 0.28873733, 0.24033496],\n",
       "       [0.21447942, 0.30272645, 0.18594418, 0.29684994]], dtype=float32)"
      ]
     },
     "execution_count": 125,
     "metadata": {},
     "output_type": "execute_result"
    }
   ],
   "source": [
    "from scipy.special import softmax\n",
    "y_test_prob = softmax(y_test_pred, axis=1)\n",
    "y_test_prob"
   ]
  },
  {
   "cell_type": "code",
   "execution_count": 134,
   "id": "04b9648e",
   "metadata": {},
   "outputs": [
    {
     "data": {
      "text/plain": [
       "{'b': array([1., 1., 1., ..., 1., 1., 1.]),\n",
       " 'g': array([2., 2., 2., ..., 2., 2., 2.]),\n",
       " 'uds': array([3., 3., 3., ..., 3., 3., 3.]),\n",
       " 'unmatched': array([0., 0., 0., ..., 0., 0., 0.])}"
      ]
     },
     "execution_count": 134,
     "metadata": {},
     "output_type": "execute_result"
    }
   ],
   "source": [
    "y_dict"
   ]
  },
  {
   "cell_type": "code",
   "execution_count": 144,
   "id": "8e9e2c21",
   "metadata": {},
   "outputs": [
    {
     "data": {
      "image/png": "[encoded data removed]",
      "text/plain": [
       "<Figure size 720x720 with 2 Axes>"
      ]
     },
     "metadata": {
      "needs_background": "light"
     },
     "output_type": "display_data"
    }
   ],
   "source": [
    "from sklearn.metrics import confusion_matrix, ConfusionMatrixDisplay\n",
    "\n",
    "fig, ax = plt.subplots(figsize=(10, 10))\n",
    "ConfusionMatrixDisplay.from_predictions(np.argmax(y_test, axis=1), \n",
    "                                        np.argmax(y_test_prob, axis=1),\n",
    "                                        labels=[1, 2, 3, 0],\n",
    "                                        display_labels=[\"b\", \"g\", \"uds\", \"else\"],\n",
    "                                        normalize=\"all\",\n",
    "                                        ax=ax)\n",
    "plt.show()"
   ]
  },
  {
   "cell_type": "code",
   "execution_count": null,
   "id": "bea324fd",
   "metadata": {},
   "outputs": [],
   "source": [
    "from sklearn.metrics import roc_curve\n",
    "\n",
    "fpr, tpr, thr = roc_curve(y_test, y_test_pred, drop_intermediate=False)"
   ]
  },
  {
   "cell_type": "code",
   "execution_count": null,
   "id": "7ef48de2",
   "metadata": {},
   "outputs": [],
   "source": [
    "plt.plot(fpr, tpr)\n",
    "plt.xlabel(\"FPR: background efficiency\")\n",
    "plt.ylabel(\"TPR: signal efficiency\")\n",
    "plt.grid()"
   ]
  },
  {
   "cell_type": "code",
   "execution_count": null,
   "id": "6b2b2fcb",
   "metadata": {},
   "outputs": [],
   "source": [
    "# b-jet vs udsg ROC curve\n",
    "\n",
    "bscore = ak.concatenate([data_sig.jet_bjetscore, data_bkg.jet_bjetscore])\n",
    "whichjet = np.concatenate([np.ones(len(data_sig)), np.zeros(len(data_bkg))])\n",
    "\n",
    "fpr0, tpr0, thr = roc_curve(whichjet, bscore, drop_intermediate=False)"
   ]
  },
  {
   "cell_type": "code",
   "execution_count": null,
   "id": "78b7b1a2",
   "metadata": {},
   "outputs": [],
   "source": [
    "plt.plot(tpr, fpr, label=\"our MLP\")\n",
    "plt.plot(tpr0, fpr0, label=\"Fast PUPPI\")\n",
    "plt.xlabel(\"signal efficiency\")\n",
    "plt.ylabel(\"background efficiency\")\n",
    "plt.yscale(\"log\")\n",
    "plt.ylim(1e-3, 1)\n",
    "plt.legend()\n",
    "hep.cms.label(label=\"Private Work\", data=False, rlabel=\"(14 TeV)\")\n",
    "plt.grid()"
   ]
  },
  {
   "cell_type": "markdown",
   "id": "d37c975c",
   "metadata": {},
   "source": [
    "The AUC seems incredibly high! \n",
    "\n",
    "Though remember that at the L1 trigger level we look for reduction factors 1e4 (40 MHz -> 1 kHz), i.e. the FPR of interest lies much lower.\n",
    "\n",
    "Much more practical is the rate in [k]Hz. In order to compute it we need to multiply the FPR with the LHC revolution frequency ~11kHz and the number of colliding bunches. The later can be looked up in the [Fill Report on OMS](https://cmsoms.cern.ch/cms/fills/report?cms_fill=9043) and is normally about 2500."
   ]
  },
  {
   "cell_type": "code",
   "execution_count": null,
   "id": "ceb46923",
   "metadata": {},
   "outputs": [],
   "source": [
    "## for L1 rate estimates from ZeroBias/SingleNuMC\n",
    "def totalMinBiasRate(nCollBunch = 2500):\n",
    "    LHCfreq = 11245.6\n",
    "    return LHCfreq * nCollBunch / 1e3 # in kHz"
   ]
  },
  {
   "cell_type": "markdown",
   "id": "34cfa75a",
   "metadata": {},
   "source": [
    "Let's now make the ROC plot and focus on a rate range 0-100 kHz:"
   ]
  },
  {
   "cell_type": "code",
   "execution_count": null,
   "id": "600afc8f",
   "metadata": {},
   "outputs": [],
   "source": [
    "plt.plot(fpr * totalMinBiasRate(), tpr, label=\"our MLP\")\n",
    "plt.plot(fpr0 * totalMinBiasRate(), tpr0, label=\"Fast PUPPI\")\n",
    "plt.xlabel(\"FPR*MBrate: Trigger rate [kHz]\")\n",
    "plt.ylabel(\"TPR: signal efficiency\")\n",
    "plt.grid()\n",
    "plt.xlim(0,120)\n",
    "plt.legend()"
   ]
  },
  {
   "cell_type": "markdown",
   "id": "33242863",
   "metadata": {},
   "source": [
    "## <font color='red'>End of Santeri's updates for jet tagging!</font>\n",
    "## <font color='red'>End of Patin's updates for jet tagging!</font>"
   ]
  },
  {
   "cell_type": "markdown",
   "id": "b9ef27fc",
   "metadata": {},
   "source": [
    "## 2. bis: Hardware input values"
   ]
  },
  {
   "cell_type": "markdown",
   "id": "37f1cde3",
   "metadata": {},
   "source": [
    "The uGT/FPGA firmware does not actually use the float variables as we did above. Instead, more hardware efficient integer values are used, called \"hardware\" (HW) variables. This is important when moving towards implementing the ML model in the actual FW -> ideally the training has to be done already with the HW features. \n",
    "\n",
    "Below we will load the HW representations of the features used above and compare them."
   ]
  },
  {
   "cell_type": "code",
   "execution_count": null,
   "id": "8f8035e7",
   "metadata": {},
   "outputs": [],
   "source": [
    "%%time\n",
    "data_sig_hw = f_sig[\"Events\"].arrays(\n",
    "    filter_name = \"/(L1Mu|L1EG|L1Jet|L1EtSum)_(hwPt|hwEta|hwPhi|etSumType)/\", \n",
    "#     entry_stop = 1e1, \n",
    "    how = \"zip\"\n",
    ")"
   ]
  },
  {
   "cell_type": "code",
   "execution_count": null,
   "id": "d820f704",
   "metadata": {},
   "outputs": [],
   "source": [
    "%%time\n",
    "data_bkg_hw = f_bkg[\"Events\"].arrays(\n",
    "    filter_name = \"/(L1Mu|L1EG|L1Jet|L1EtSum)_(hwPt|hwEta|hwPhi|etSumType)/\", \n",
    "#     entry_stop = 1e1, \n",
    "    how = \"zip\"\n",
    ")"
   ]
  },
  {
   "cell_type": "markdown",
   "id": "bc150a9b",
   "metadata": {},
   "source": [
    "Note that we will define a dedicated HW object dictionary for the conversion to the tabular format:"
   ]
  },
  {
   "cell_type": "code",
   "execution_count": null,
   "id": "5f55f790",
   "metadata": {},
   "outputs": [],
   "source": [
    "hw_objects = [\n",
    "    {\"name\" : \"MET\", \"key\" : \"L1EtSum\", \"fields\" : [\"hwPt\", \"hwPhi\"], \"n_obj\" : 1,\n",
    "     \"cuts\" : [{\"cuttype\" : \"equals\", \"field\" : \"etSumType\", \"value\" : 2}] },  # etSumType 2 = MET noHF\n",
    "    {\"name\" : \"jet\", \"key\" : \"L1Jet\", \"fields\" : [\"hwPt\", \"hwEta\", \"hwPhi\"], \"n_obj\" : 8},\n",
    "    {\"name\" : \"eg\", \"key\" : \"L1EG\", \"fields\" : [\"hwPt\", \"hwEta\", \"hwPhi\"], \"n_obj\" : 8},\n",
    "    {\"name\" : \"muon\", \"key\" : \"L1Mu\", \"fields\" : [\"hwPt\", \"hwEta\", \"hwPhi\"], \"n_obj\" : 2},\n",
    "]"
   ]
  },
  {
   "cell_type": "code",
   "execution_count": null,
   "id": "0ee829d5",
   "metadata": {},
   "outputs": [],
   "source": [
    "x_sig_hw, hw_var_names = formatDataTopotrigger(data_sig_hw, hw_objects, verbosity = 0)"
   ]
  },
  {
   "cell_type": "code",
   "execution_count": null,
   "id": "79a32f2f",
   "metadata": {},
   "outputs": [],
   "source": [
    "x_bkg_hw, hw_var_names = formatDataTopotrigger(data_bkg_hw, hw_objects, verbosity = 0)"
   ]
  },
  {
   "cell_type": "code",
   "execution_count": null,
   "id": "7b0fa871",
   "metadata": {},
   "outputs": [],
   "source": [
    "x_bkg_hw.shape, x_bkg.shape"
   ]
  },
  {
   "cell_type": "code",
   "execution_count": null,
   "id": "d9e476d4",
   "metadata": {},
   "outputs": [],
   "source": [
    "# combining signal & bkg\n",
    "x_hw = np.concatenate((x_bkg_hw, x_sig_hw))"
   ]
  },
  {
   "cell_type": "markdown",
   "id": "d3594ce0",
   "metadata": {},
   "source": [
    "Let us compare the float and int/HW values:"
   ]
  },
  {
   "cell_type": "code",
   "execution_count": null,
   "id": "6ac7cca3",
   "metadata": {
    "scrolled": true
   },
   "outputs": [],
   "source": [
    "for i,name in enumerate(var_names[:10]):\n",
    "    if \"_0_\" not in name: continue\n",
    "        \n",
    "    plt.figure()\n",
    "    \n",
    "    _ = plt.hist(x[:,i], bins = 50, log = True, density = True, label = \"float\")\n",
    "    _ = plt.hist(x_hw[:,i], bins = 50, histtype = \"step\", density = True, label = \"int/hw\")\n",
    "    \n",
    "    plt.xlabel(name)\n",
    "    plt.legend()\n",
    "#     break"
   ]
  },
  {
   "cell_type": "markdown",
   "id": "7a365c22",
   "metadata": {},
   "source": [
    "Now we will will prepare a separate scaler for the HW values, and then we will save it for \"Part 3\" of this tutorial."
   ]
  },
  {
   "cell_type": "code",
   "execution_count": null,
   "id": "4b67296c",
   "metadata": {},
   "outputs": [],
   "source": [
    "hwScaler = StandardScaler()\n",
    "_ = hwScaler.fit(x_hw)\n",
    "x_hw_scaled = hwScaler.transform(x_hw)"
   ]
  },
  {
   "cell_type": "code",
   "execution_count": null,
   "id": "39f53111",
   "metadata": {},
   "outputs": [],
   "source": [
    "with open(outdir+\"hwScaler.pkl\", 'wb') as file_pi: \n",
    "    pickle.dump(hwScaler, file_pi)"
   ]
  },
  {
   "cell_type": "markdown",
   "id": "59b1eb31",
   "metadata": {},
   "source": [
    "And now we can compare the scaled values:"
   ]
  },
  {
   "cell_type": "code",
   "execution_count": null,
   "id": "9aabddc3",
   "metadata": {},
   "outputs": [],
   "source": [
    "for i,name in enumerate(var_names[:100]):\n",
    "    if \"_0_\" not in name: continue\n",
    "        \n",
    "    plt.figure()\n",
    "    \n",
    "    _ = plt.hist(x_scaled[:,i], bins = 50, log = True, density = True, label = \"float\")\n",
    "    _ = plt.hist(x_hw_scaled[:,i], bins = 50, histtype = \"step\", density = True, label = \"int/hw\")\n",
    "    \n",
    "    plt.xlabel(name)\n",
    "    plt.legend()\n",
    "#     break"
   ]
  },
  {
   "cell_type": "markdown",
   "id": "5a1869b6",
   "metadata": {},
   "source": [
    "Note that except for phi the scaled float and int/HW value distributions match rather nice.\n",
    "The mismatches for pt/eta are mostly due to rounding effects, whereas for phi the \"issue\" is that the HW phi 0 value corresponds to -pi and hence the zero-padding results in an asymmetric distribution, unlike for the float variables.\n",
    "\n",
    "Since the phi variables do not contribute much to the NN performance, we can for now ignore this inconsistency. In an actual application it is advisable to train the ML with HW variables directly though!"
   ]
  },
  {
   "cell_type": "markdown",
   "id": "dcf00da7",
   "metadata": {},
   "source": [
    "# 3. Study current L1 menu\n",
    "\n",
    "The idea is to look at the acceptance (trigger efficiency) of the current L1 menu for our signal of interest\n",
    "\n",
    "### Get list of unprescaled L1 seeds\n",
    "\n",
    "We will load the prescale table from a recent menu e.g. https://github.com/cms-l1-dpg/L1MenuRun3/blob/master/official/L1Menu_Collisions2023_v1_2_0/PrescaleTable/L1Menu_Collisions2023_v1_2_0.csv\n",
    "(click on `RAW` view for the raw url to be used below)"
   ]
  },
  {
   "cell_type": "code",
   "execution_count": null,
   "id": "dc395893",
   "metadata": {},
   "outputs": [],
   "source": [
    "# this is the Prescale (PS) table that was used for the MC generation:\n",
    "# l1_ps_url = \"https://raw.githubusercontent.com/cms-l1-dpg/L1MenuRun3/master/development/L1Menu_Collisions2022_v1_3_0/PrescaleTable/L1Menu_Collisions2022_v1_3_0.csv\"\n",
    "\n",
    "## official PS table for 2023 \n",
    "# l1_ps_url = \"https://raw.githubusercontent.com/cms-l1-dpg/L1MenuRun3/master/official/L1Menu_Collisions2023_v1_2_0/PrescaleTable/L1Menu_Collisions2023_v1_2_0.csv\"\n",
    "\n",
    "## special PS table with backup seeds disabled for 1.9E34 column -> will use that one\n",
    "l1_ps_url = \"https://raw.githubusercontent.com/cms-l1-dpg/L1MenuRun3/master/development/L1Menu_Collisions2023_v1_2_0/PrescaleTable/L1Menu_Collisions2023_v1_2_0-DedicatedPureRateStudy.csv\"\n",
    "df_l1_ps = pd.read_csv(l1_ps_url)\n",
    "df_l1_ps.head()"
   ]
  },
  {
   "cell_type": "markdown",
   "id": "59de5c33",
   "metadata": {},
   "source": [
    "Select unprescaled seeds (=`1`) for column \"1p9E34\" (this is a special PS table where backup seeds are disabled in this column)"
   ]
  },
  {
   "cell_type": "code",
   "execution_count": null,
   "id": "b4256188",
   "metadata": {},
   "outputs": [],
   "source": [
    "# filter PS column\n",
    "mask = df_l1_ps[\"2p0E34\"] == 1\n",
    "# mask = df_l1_ps[\"1p9E34\"] == 1 # for special no-backup column\n",
    "l1_unps_seeds = df_l1_ps[mask].Name.values\n",
    "print(f\"We selected {len(l1_unps_seeds)} out of {len(df_l1_ps)} L1 seeds.\")"
   ]
  },
  {
   "cell_type": "markdown",
   "id": "8a670e0f",
   "metadata": {},
   "source": [
    "### Load L1 seeds from the signal MC file"
   ]
  },
  {
   "cell_type": "code",
   "execution_count": null,
   "id": "a2705811",
   "metadata": {},
   "outputs": [],
   "source": [
    "%%time\n",
    "bits_sig = f_sig[\"Events\"].arrays(filter_name = l1_unps_seeds, entry_stop = 1e7)"
   ]
  },
  {
   "cell_type": "code",
   "execution_count": null,
   "id": "98c8a037",
   "metadata": {},
   "outputs": [],
   "source": [
    "len(bits_sig.fields)"
   ]
  },
  {
   "cell_type": "markdown",
   "id": "417a57c8",
   "metadata": {},
   "source": [
    "One can see that while we expected 161 seeds, only 178 were loaded -> the missing were not in the menu used for the MC production!"
   ]
  },
  {
   "cell_type": "code",
   "execution_count": null,
   "id": "c51b3d8e",
   "metadata": {},
   "outputs": [],
   "source": [
    "# convert to a pandas dataframe for convenience\n",
    "df_bits_sig = ak.to_dataframe(bits_sig) # might be to_pandas if using awkward < v2\n",
    "df_bits_sig.head()"
   ]
  },
  {
   "cell_type": "markdown",
   "id": "bfeb8edc",
   "metadata": {},
   "source": [
    "Now we will compute the total number of counts and in addition the number of pure counts i.e. where only one seed has fired"
   ]
  },
  {
   "cell_type": "code",
   "execution_count": null,
   "id": "d5b08eaf",
   "metadata": {},
   "outputs": [],
   "source": [
    "%%time\n",
    "counts = {}\n",
    "\n",
    "for seed in df_bits_sig.columns:\n",
    "    counts[seed] = {\n",
    "        \"total\": df_bits_sig[seed].sum(), \n",
    "        \"pure\" :  (df_bits_sig[seed] & ~df_bits_sig.drop(seed, axis=1).any(axis=1)).sum(),\n",
    "}\n",
    "    \n",
    "df_counts = pd.DataFrame(counts).T"
   ]
  },
  {
   "cell_type": "code",
   "execution_count": null,
   "id": "5f98ecb7",
   "metadata": {},
   "outputs": [],
   "source": [
    "df_counts.sort_values(\"total\", ascending = False)[:10]"
   ]
  },
  {
   "cell_type": "markdown",
   "id": "d14ba473",
   "metadata": {},
   "source": [
    "Note that when we sort the seeds by the total counts as above we do have some high-count seeds with very low pure rate: these are in the \"shadow\" of other seeds when looking at this signal MC sample (but not necessarily on Background MC/ZeroBias!)\n",
    "\n",
    "We will exlcude the seeds with low pure rate and sort by total again:"
   ]
  },
  {
   "cell_type": "code",
   "execution_count": null,
   "id": "63fd9e81",
   "metadata": {},
   "outputs": [],
   "source": [
    "df_counts_pure = df_counts[df_counts.pure > 0]\n",
    "df_counts_pure.sort_values(\"total\", ascending = False)[:5]"
   ]
  },
  {
   "cell_type": "code",
   "execution_count": null,
   "id": "a86231bf",
   "metadata": {},
   "outputs": [],
   "source": [
    "len(df_counts_pure) # to check number of remaining seeds"
   ]
  },
  {
   "cell_type": "markdown",
   "id": "76dd4cc4",
   "metadata": {},
   "source": [
    "Now we can compute the signal efficiencies by dividing the counts by the number of events"
   ]
  },
  {
   "cell_type": "code",
   "execution_count": null,
   "id": "abc616c1",
   "metadata": {},
   "outputs": [],
   "source": [
    "df_eff_pure = df_counts_pure/len(bits_sig)"
   ]
  },
  {
   "cell_type": "code",
   "execution_count": null,
   "id": "941417ef",
   "metadata": {},
   "outputs": [],
   "source": [
    "df_eff_pure.sort_values(\"total\", ascending = False)[:5]"
   ]
  },
  {
   "cell_type": "code",
   "execution_count": null,
   "id": "e8fa0e4f",
   "metadata": {},
   "outputs": [],
   "source": [
    "# # uncomment below to make a plot of the efficiencies\n",
    "# ax = df_eff_pure.sort_values(\"total\", ascending = True).plot(kind = \"barh\", figsize = (10,12))\n",
    "# # ax.set_xscale(\"log\")\n",
    "# ax.set_xlabel(\"Signal efficiency\")\n",
    "# ax.grid()"
   ]
  },
  {
   "cell_type": "markdown",
   "id": "33fd4b5c",
   "metadata": {},
   "source": [
    "### Rates for the unprescaled seeds using the background sample\n",
    "\n",
    "We will use the above background dataset and only load the pure seeds we selected above for speed/performance."
   ]
  },
  {
   "cell_type": "code",
   "execution_count": null,
   "id": "bcf7af41",
   "metadata": {},
   "outputs": [],
   "source": [
    "%%time\n",
    "bits_bkg = f_bkg[\"Events\"].arrays(filter_name = df_counts_pure.index.values, entry_stop = 1e7)"
   ]
  },
  {
   "cell_type": "code",
   "execution_count": null,
   "id": "fdb47987",
   "metadata": {},
   "outputs": [],
   "source": [
    "%%time\n",
    "df_bits_bkg = ak.to_dataframe(bits_bkg) # might be to_pandas if using awkward < v2"
   ]
  },
  {
   "cell_type": "code",
   "execution_count": null,
   "id": "57a8d086",
   "metadata": {},
   "outputs": [],
   "source": [
    "%%time\n",
    "counts_bkg = {}\n",
    "\n",
    "df = df_bits_bkg\n",
    "\n",
    "for seed in df.columns:\n",
    "#     print(seed)\n",
    "    counts_bkg[seed] = {\n",
    "        \"total\": df[seed].sum(), \n",
    "        \"pure\" :  (df[seed] & ~df.drop(seed, axis=1).any(axis=1)).sum(),\n",
    "\n",
    "}\n",
    "    \n",
    "df_counts_bkg = pd.DataFrame(counts_bkg).T"
   ]
  },
  {
   "cell_type": "code",
   "execution_count": null,
   "id": "1d397ee8",
   "metadata": {},
   "outputs": [],
   "source": [
    "df_counts_bkg.sort_values(\"total\", ascending = False)[:10]"
   ]
  },
  {
   "cell_type": "markdown",
   "id": "1238e219",
   "metadata": {},
   "source": [
    "We convert the counts to the rate using the total minbias rate we defined above:"
   ]
  },
  {
   "cell_type": "code",
   "execution_count": null,
   "id": "156879b3",
   "metadata": {},
   "outputs": [],
   "source": [
    "df_rate_bkg = df_counts_bkg * totalMinBiasRate() / len(bits_bkg)"
   ]
  },
  {
   "cell_type": "code",
   "execution_count": null,
   "id": "4c422757",
   "metadata": {},
   "outputs": [],
   "source": [
    "df_rate_bkg.sort_values(\"total\", ascending = False)[:10]"
   ]
  },
  {
   "cell_type": "markdown",
   "id": "200297ed",
   "metadata": {},
   "source": [
    "You might notice that the rates are much lower than usually quoted. This is not only due to data/MC differences, but also due to the fact that here in MC we consider a wide PU range.\n",
    "\n",
    "Only for reference: rates from OMS: https://cmsoms.cern.ch/cms/triggers/l1_rates?cms_run=370293&update=false"
   ]
  },
  {
   "cell_type": "markdown",
   "id": "11ae9cf1",
   "metadata": {},
   "source": [
    "We can merge the signal efficiency and (background) rate dataframes for convenience:"
   ]
  },
  {
   "cell_type": "code",
   "execution_count": null,
   "id": "e89c6fb9",
   "metadata": {},
   "outputs": [],
   "source": [
    "df_eff_rate = df_eff_pure.join(df_rate_bkg, lsuffix = \" eff\", rsuffix = \" rate\")\n",
    "df_eff_rate.sort_values(\"total eff\", ascending = False)[:5]"
   ]
  },
  {
   "cell_type": "markdown",
   "id": "fb19cb83",
   "metadata": {},
   "source": [
    "Now we can make a \"ROC\" curve from the signal efficiency and rates for the L1 seeds.\n",
    "For this we will first selecte the 5 \"best\" triggers for plotting:"
   ]
  },
  {
   "cell_type": "code",
   "execution_count": null,
   "id": "9722e212",
   "metadata": {},
   "outputs": [],
   "source": [
    "best_trigs = list(df_eff_pure.sort_values(\"total\", ascending = False)[:5].index)\n",
    "best_trigs"
   ]
  },
  {
   "cell_type": "code",
   "execution_count": null,
   "id": "ee7fdec9",
   "metadata": {},
   "outputs": [],
   "source": [
    "plt.figure(figsize = (10,6))\n",
    "\n",
    "for trig in best_trigs:\n",
    "    eff = df_eff_rate.loc[trig,\"total eff\"]\n",
    "    rate = df_eff_rate.loc[trig,\"total rate\"]\n",
    "    print(trig, eff, rate)\n",
    "    \n",
    "    plt.plot(rate, eff, \"o\", label = trig, ms = 10)\n",
    "    \n",
    "plt.legend(fontsize = 15)\n",
    "plt.ylim(0,1)\n",
    "# plt.xlim(0,)\n",
    "plt.ylabel(\"Trigger/Signal efficiency [%]\")\n",
    "plt.xlabel(\"Trigger rate [kHz]\")\n",
    "plt.grid()"
   ]
  },
  {
   "cell_type": "markdown",
   "id": "71daa19f",
   "metadata": {},
   "source": [
    "# 4. Compare NN vs L1 seeds"
   ]
  },
  {
   "cell_type": "markdown",
   "id": "b9b4902c",
   "metadata": {},
   "source": [
    "Finally, we can compare the NN and L1 menu triggers in one plot:"
   ]
  },
  {
   "cell_type": "code",
   "execution_count": null,
   "id": "2dcfd8e4",
   "metadata": {},
   "outputs": [],
   "source": [
    "plt.figure(figsize = (12,8))\n",
    "plt.title(\"HH>bbtautau\")\n",
    "\n",
    "for trig in best_trigs:\n",
    "    eff = df_eff_rate.loc[trig,\"total eff\"]\n",
    "    rate = df_eff_rate.loc[trig,\"total rate\"]\n",
    "    plt.plot(rate, eff, \"o\", label = trig, ms = 10)\n",
    "    \n",
    "    \n",
    "plt.plot(fpr * totalMinBiasRate(), tpr , label = \"NN trigger\")\n",
    "    \n",
    "plt.xlim(0,20)\n",
    "plt.legend(fontsize = 15)\n",
    "plt.ylabel(\"Trigger/Signal efficiency [%]\")\n",
    "plt.xlabel(\"Trigger rate [kHz]\")\n",
    "plt.grid()"
   ]
  },
  {
   "cell_type": "markdown",
   "id": "34a3ed25",
   "metadata": {},
   "source": [
    "We can also add the OR of the full L1 menu and of the best triggers:"
   ]
  },
  {
   "cell_type": "code",
   "execution_count": null,
   "id": "5a39f529",
   "metadata": {},
   "outputs": [],
   "source": [
    "bits = np.concatenate((bits_bkg, bits_sig))"
   ]
  },
  {
   "cell_type": "code",
   "execution_count": null,
   "id": "20c4f51d",
   "metadata": {},
   "outputs": [],
   "source": [
    "all_trig_or = False\n",
    "\n",
    "for trig in bits.fields:\n",
    "    all_trig_or = all_trig_or | bits[trig]"
   ]
  },
  {
   "cell_type": "code",
   "execution_count": null,
   "id": "3abb3ae1",
   "metadata": {},
   "outputs": [],
   "source": [
    "best_bits_or = False\n",
    "\n",
    "for trig in best_trigs:\n",
    "    best_bits_or = best_bits_or | bits[trig]"
   ]
  },
  {
   "cell_type": "code",
   "execution_count": null,
   "id": "a1d3f1c5",
   "metadata": {},
   "outputs": [],
   "source": [
    "# Make a \"ROC\" curve from the signal efficiency and rates\n",
    "\n",
    "plt.figure(figsize = (12,8))\n",
    "plt.title(\"HH>bbtautau\")\n",
    "\n",
    "for trig in best_trigs:\n",
    "    \n",
    "    eff = df_eff_pure.loc[trig,\"total\"]\n",
    "    rate = df_rate_bkg.loc[trig,\"total\"]\n",
    "#     print(trig, eff, rate)\n",
    "    \n",
    "    plt.plot(rate, eff, \"o\", label = trig, ms = 10)\n",
    "    \n",
    "## total L1 menu\n",
    "eff = np.sum(all_trig_or[y==1]) / np.sum(y==1)\n",
    "rate = np.sum(all_trig_or[y==0]) / np.sum(y==0) * totalMinBiasRate()\n",
    "plt.plot(rate, eff, \"o\", label = \"All L1\", ms = 10)\n",
    "    \n",
    "plt.plot(fpr * totalMinBiasRate(), tpr , label = \"NN trigger\")\n",
    "    \n",
    "plt.xlim(0,50)\n",
    "plt.legend(fontsize = 15)\n",
    "plt.ylabel(\"Trigger/Signal efficiency [%]\")\n",
    "plt.xlabel(\"Trigger rate [kHz]\")\n",
    "plt.grid()"
   ]
  },
  {
   "cell_type": "markdown",
   "id": "da49bf25",
   "metadata": {},
   "source": [
    "Note that the `All L1` menu rate is unrealistic since the MC PU profile is lower than what the considered menu was designed for!\n",
    "\n",
    "**Bonus**: we can also make a ROC curve for the L1 HT variable to check if we could lower the HT threshold and compare to the NN ROC.\n",
    "\n",
    "For this we first need to extract the L1 HT from the data:"
   ]
  },
  {
   "cell_type": "code",
   "execution_count": null,
   "id": "cd5d684c",
   "metadata": {},
   "outputs": [],
   "source": [
    "# L1 l1ht\n",
    "l1ht_sig = data_sig.L1EtSum[data_sig.L1EtSum[\"etSumType\"] == 1].pt[:,0]\n",
    "l1ht_bkg = data_bkg.L1EtSum[data_bkg.L1EtSum[\"etSumType\"] == 1].pt[:,0]\n",
    "l1ht_all = np.concatenate([l1ht_bkg,l1ht_sig])"
   ]
  },
  {
   "cell_type": "code",
   "execution_count": null,
   "id": "8daa1fff",
   "metadata": {},
   "outputs": [],
   "source": [
    "_ = plt.hist(l1ht_bkg, bins = np.linspace(0,500,50), log = True, density = 1,)\n",
    "_ = plt.hist(l1ht_sig, bins = _[1], histtype = \"step\", density = 1,)\n",
    "plt.xlabel(\"L1 HT\")"
   ]
  },
  {
   "cell_type": "markdown",
   "id": "f818e868",
   "metadata": {},
   "source": [
    "Make the HT \"ROC\""
   ]
  },
  {
   "cell_type": "code",
   "execution_count": null,
   "id": "37c1959f",
   "metadata": {},
   "outputs": [],
   "source": [
    "ht_fpr, ht_tpr, ht_thr = roc_curve(y, l1ht_all, drop_intermediate=False)\n",
    "# plt.plot(ht_fpr, ht_tpr)"
   ]
  },
  {
   "cell_type": "code",
   "execution_count": null,
   "id": "2732ec61",
   "metadata": {},
   "outputs": [],
   "source": [
    "plt.figure(figsize = (12,8))\n",
    "plt.title(\"HH>bbtautau\")\n",
    "\n",
    "for trig in best_trigs:\n",
    "    eff = df_eff_pure.loc[trig,\"total\"]\n",
    "    rate = df_rate_bkg.loc[trig,\"total\"]\n",
    "\n",
    "    plt.plot(rate, eff, \"o\", label = trig, ms = 10)\n",
    "    \n",
    "## total L1 menu\n",
    "eff = np.sum(all_trig_or[y==1]) / np.sum(y==1)\n",
    "rate = np.sum(all_trig_or[y==0]) / np.sum(y==0) * totalMinBiasRate()\n",
    "plt.plot(rate, eff, \"o\", label = \"All L1\", ms = 10)\n",
    "\n",
    "## HT ROC\n",
    "plt.plot(ht_fpr * totalMinBiasRate(), ht_tpr, label = \"HT thr scan\")\n",
    "    \n",
    "## NN\n",
    "plt.plot(fpr * totalMinBiasRate(), tpr , label = \"NN trigger\")\n",
    "  \n",
    "plt.xlim(0,50)\n",
    "# plt.xlim(1,1e3)\n",
    "# plt.xscale(\"log\")\n",
    "\n",
    "plt.legend(fontsize = 15)\n",
    "plt.ylabel(\"Trigger/Signal efficiency [%]\")\n",
    "plt.xlabel(\"Trigger rate [kHz]\")\n",
    "plt.grid()"
   ]
  },
  {
   "cell_type": "markdown",
   "id": "dfa6388b",
   "metadata": {},
   "source": [
    "You can see that the `L1_HTT280er` seed point lies exactly on the HT scan curve which is a good cross-check.\n",
    "\n",
    "Finally, the NN always outperforms the L1 Menu, even when all the seeds are combined."
   ]
  },
  {
   "cell_type": "markdown",
   "id": "7a80b029",
   "metadata": {},
   "source": [
    "# 5. Offline Efficiencies"
   ]
  },
  {
   "cell_type": "markdown",
   "id": "de71d440",
   "metadata": {},
   "source": [
    "In this part we will look into the trigger efficiencies with respect to some offline quantities such as MET and HT. \n",
    "\n",
    "This will help to see in which phase-space the NN trigger outperforms the traditional seeds.\n",
    "\n",
    "We first need to load the offline Jets and MET for the signal:"
   ]
  },
  {
   "cell_type": "code",
   "execution_count": null,
   "id": "d12dc048",
   "metadata": {},
   "outputs": [],
   "source": [
    "%%time\n",
    "f_sig = uproot.open(fname_sig)\n",
    "events_sig = f_sig[\"Events\"].arrays(\n",
    "    filter_name = [\"/Jet_(pt|eta|phi|jetId)/\", \"MET_pt\"],\n",
    "#     entry_stop = 1,\n",
    "    how = \"zip\", \n",
    ")"
   ]
  },
  {
   "cell_type": "markdown",
   "id": "3bba0eb4",
   "metadata": {},
   "source": [
    "We will now compute the HT from jets with pt > 30, eta < 2.4 and jetId>=2"
   ]
  },
  {
   "cell_type": "code",
   "execution_count": null,
   "id": "cd4a1cce",
   "metadata": {},
   "outputs": [],
   "source": [
    "jets = events_sig.Jet\n",
    "jets[\"mass\"] = 0\n",
    "\n",
    "jets_mask = (jets.pt > 30) & (abs(jets.eta) < 2.4) & (events_sig.Jet.jetId >= 2)\n",
    "good_jets = ak.Array(jets[jets_mask], with_name = \"Momentum4D\")\n",
    "\n",
    "ht_sig = ak.fill_none(ak.sum(good_jets.pt, axis = 1), 40)"
   ]
  },
  {
   "cell_type": "markdown",
   "id": "6c91e732",
   "metadata": {},
   "source": [
    "We will plot the distribution of offline HT and then use this as the denominator.\n",
    "The numerator will be the distribution after a certain trigger selection:"
   ]
  },
  {
   "cell_type": "code",
   "execution_count": null,
   "id": "76116590",
   "metadata": {},
   "outputs": [],
   "source": [
    "f,ax1 = plt.subplots(figsize = (10,8))\n",
    "ax2 = ax1.twinx()\n",
    "ax1.set_xlabel(\"Offline HT\")\n",
    "ax1.set_ylabel(\"Trigger (Signal) efficiency\")\n",
    "\n",
    "xvar = ht_sig\n",
    "xbins = np.linspace(0,1000,50)\n",
    "den = np.histogram(xvar, bins = xbins)\n",
    "ax2.hist(xvar, bins = xbins, label = \"HH>bbtautau\", color = \"grey\", alpha = 0.3)\n",
    "ax2.legend(loc = 4)\n",
    "ax2.set_ylabel(\"Event counts\")\n",
    "\n",
    "#### L1 \n",
    "for trig in best_trigs[:2]:\n",
    "    num = np.histogram(xvar[bits_sig[trig]], bins = den[1])\n",
    "    rate = np.sum(bits_bkg[trig]) / len(y_bkg) * totalMinBiasRate()\n",
    "    ax1.plot(den[1][1:], num[0]/den[0], \"o-\", label = f\"{trig}, \\nRate: {rate:.1f} kHz\")\n",
    "    \n",
    "if True:\n",
    "    num = np.histogram(xvar[all_trig_or[y==1]], bins = den[1])\n",
    "    rate = np.sum(all_trig_or[y==0]) / len(y_bkg) * totalMinBiasRate()\n",
    "    ax1.plot(den[1][1:], num[0]/den[0], \".-\", label = f\"All L1 Menu, Rate: {rate:.1f} kHz\")\n",
    "    \n",
    "## BEST 5\n",
    "if True:\n",
    "    num = np.histogram(xvar[best_bits_or[y==1]], bins = den[1])\n",
    "    rate = np.sum(best_bits_or[y==0]) / len(y_bkg) * totalMinBiasRate()\n",
    "    ax1.plot(den[1][1:], num[0]/den[0], \".-\", label = f\"Top 5 L1, Rate: {rate:.1f} kHz\")\n",
    "\n",
    "\n",
    "# ax1.set_ylim(0,1.2)\n",
    "ax1.grid()\n",
    "\n",
    "ax1.legend(loc = 5, fontsize = 15)"
   ]
  },
  {
   "cell_type": "markdown",
   "id": "04dc5eb5",
   "metadata": {},
   "source": [
    "Now we need to make the NN prediction for the full sample, since we do not have the test/train split for the offline jets. We can do this since our model does not overtrain -> the train/test performance is similar"
   ]
  },
  {
   "cell_type": "code",
   "execution_count": null,
   "id": "fd35eb1d",
   "metadata": {},
   "outputs": [],
   "source": [
    "## this takes about 50 secs - time for a short break\n",
    "y_pred = model.predict(x_scaled)[:,0]"
   ]
  },
  {
   "cell_type": "markdown",
   "id": "d9156272",
   "metadata": {},
   "source": [
    "Now we add the NN for some reasonable threshold/rate values:"
   ]
  },
  {
   "cell_type": "code",
   "execution_count": null,
   "id": "d57711e1",
   "metadata": {},
   "outputs": [],
   "source": [
    "f,ax1 = plt.subplots(figsize = (10,8))\n",
    "ax2 = ax1.twinx()\n",
    "ax1.set_xlabel(\"Offline HT\")\n",
    "ax1.set_ylabel(\"Trigger (Signal) efficiency\")\n",
    "\n",
    "xvar = ht_sig\n",
    "xbins = np.linspace(0,1000,50)\n",
    "den = np.histogram(xvar, bins = xbins)\n",
    "ax2.hist(xvar, bins = xbins, label = \"HH>bbtautau\", color = \"grey\", alpha = 0.3)\n",
    "ax2.legend(loc = 4)\n",
    "ax2.set_ylabel(\"Event counts\")\n",
    "\n",
    "#### L1 \n",
    "for trig in best_trigs[:1]:\n",
    "    num = np.histogram(xvar[bits_sig[trig]], bins = den[1])\n",
    "    rate = np.sum(bits_bkg[trig]) / len(y_bkg) * totalMinBiasRate()\n",
    "    ax1.plot(den[1][1:], num[0]/den[0], \"o-\", label = f\"{trig}, \\nRate: {rate:.1f} kHz\")\n",
    "    \n",
    "## All L1\n",
    "if True:\n",
    "    num = np.histogram(xvar[all_trig_or[y==1]], bins = den[1])\n",
    "    rate = np.sum(all_trig_or[y==0]) / len(y_bkg) * totalMinBiasRate()\n",
    "    ax1.plot(den[1][1:], num[0]/den[0], \".-\", label = f\"All L1 Menu, Rate: {rate:.1f} kHz\")\n",
    "\n",
    "## BEST 5\n",
    "if True:\n",
    "    num = np.histogram(xvar[best_bits_or[y==1]], bins = den[1])\n",
    "    rate = np.sum(best_bits_or[y==0]) / len(y_bkg) * totalMinBiasRate()\n",
    "    ax1.plot(den[1][1:], num[0]/den[0], \".-\", label = f\"Top 5 L1, Rate: {rate:.1f} kHz\")\n",
    "\n",
    "## NN trigger\n",
    "for thr in [0.985]:\n",
    "    trig_mask = (y_pred > thr)\n",
    "    num = np.histogram(xvar[trig_mask[y == 1]], bins = den[1])\n",
    "\n",
    "    rate = np.sum(trig_mask[y == 0])/ len(y_bkg) * totalMinBiasRate()\n",
    "    pure_rate = np.sum(trig_mask[y == 0] & ~all_trig_or[y==0])/ len(y_bkg) * totalMinBiasRate()\n",
    "    \n",
    "    ax1.plot(den[1][1:], num[0]/den[0], \"o-\", label = \"NN>%s, Total Rate: %.1f kHz, Pure: %.1f\" %(thr, rate, pure_rate))\n",
    "\n",
    "ax1.grid()\n",
    "ax1.legend(loc = 5, fontsize = 15)"
   ]
  },
  {
   "cell_type": "markdown",
   "id": "aa11b11f",
   "metadata": {},
   "source": [
    "We can look at the efficiencies also for the L1 HT:"
   ]
  },
  {
   "cell_type": "code",
   "execution_count": null,
   "id": "0385bbe8",
   "metadata": {},
   "outputs": [],
   "source": [
    "f,ax1 = plt.subplots(figsize = (10,8))\n",
    "ax2 = ax1.twinx()\n",
    "ax1.set_xlabel(\"L1 HT\")\n",
    "ax1.set_ylabel(\"Trigger (Signal) efficiency\")\n",
    "\n",
    "xvar = l1ht_sig\n",
    "xbins = np.linspace(0,600,50)\n",
    "den = np.histogram(xvar, bins = xbins)\n",
    "ax2.hist(xvar, bins = xbins, label = \"HH>bbtautau\", color = \"grey\", alpha = 0.3)\n",
    "ax2.legend(loc = 4)\n",
    "ax2.set_ylabel(\"Event counts\")\n",
    "\n",
    "#### L1 \n",
    "for trig in list(best_trigs[:1]):# + [\"L1_SingleJet180\"]:\n",
    "    num = np.histogram(xvar[bits_sig[trig]], bins = den[1])\n",
    "    rate = np.sum(bits_bkg[trig]) / len(y_bkg) * totalMinBiasRate()\n",
    "    ax1.plot(den[1][1:], num[0]/den[0], \"o-\", label = f\"{trig}, Rate: {rate:.1f} kHz\")\n",
    "    \n",
    "## BEST 5\n",
    "if True:\n",
    "    num = np.histogram(xvar[best_bits_or[y==1]], bins = den[1])\n",
    "    rate = np.sum(best_bits_or[y==0]) / len(y_bkg) * totalMinBiasRate()\n",
    "    ax1.plot(den[1][1:], num[0]/den[0], \".-\", label = f\"Top 5 L1, Rate: {rate:.1f} kHz\")\n",
    "\n",
    "## NN trigger\n",
    "for thr in [0.985]:\n",
    "    trig_mask = (y_pred > thr)\n",
    "    num = np.histogram(xvar[trig_mask[y == 1]], bins = den[1])\n",
    "\n",
    "    rate = np.sum(trig_mask[y == 0])/ len(y_bkg) * totalMinBiasRate()\n",
    "    pure_rate = np.sum(trig_mask[y == 0] & ~all_trig_or[y==0])/ len(y_bkg) * totalMinBiasRate()\n",
    "    \n",
    "    ax1.plot(den[1][1:], num[0]/den[0], \"o-\", label = \"NN>%s, Total Rate: %.1f kHz, Pure: %.1f\" %(thr, rate, pure_rate))\n",
    "\n",
    "# ax1.set_ylim(0,1.2)\n",
    "ax1.grid()\n",
    "\n",
    "ax1.legend(loc = 5, fontsize = 15)"
   ]
  },
  {
   "cell_type": "markdown",
   "id": "7edbc20f",
   "metadata": {},
   "source": [
    "The L1 HT280 seed naturally is a step function (~rounding effects). \n",
    "But, interestingly, the NN plateaus after the 280 GeV threshold yet it shows a better efficiency for offline HT at this score threshold!"
   ]
  },
  {
   "cell_type": "markdown",
   "id": "80492a30",
   "metadata": {},
   "source": [
    "Finally we can check the efficiencies for some of the input features:"
   ]
  },
  {
   "cell_type": "code",
   "execution_count": null,
   "id": "2fd085e2",
   "metadata": {
    "scrolled": true
   },
   "outputs": [],
   "source": [
    "for i,name in enumerate(var_names):\n",
    "    if \"0_pt\" not in name: continue\n",
    "    \n",
    "    f,ax1 = plt.subplots(figsize = (10,8))\n",
    "    ax2 = ax1.twinx()\n",
    "    ax1.set_xlabel(name)\n",
    "    ax1.set_ylabel(\"Trigger (Signal) efficiency\")\n",
    "\n",
    "    xvar = x_sig[:,i]\n",
    "    xbins = 50\n",
    "    den = np.histogram(xvar[xvar<300], bins = xbins)\n",
    "    ax2.hist(xvar, bins = den[1], label = \"HH>bbtautau\", color = \"grey\", alpha = 0.3)\n",
    "    ax2.legend(loc = 4)\n",
    "    ax2.set_ylabel(\"Event counts\")\n",
    "\n",
    "    #### L1 \n",
    "    for trig in best_trigs[:1]:\n",
    "        num = np.histogram(xvar[bits_sig[trig]], bins = den[1])\n",
    "        rate = np.sum(bits_bkg[trig]) / len(y_bkg) * totalMinBiasRate()\n",
    "        ax1.plot(den[1][1:], num[0]/den[0], \"o-\", label = f\"{trig}, \\nRate: {rate:.1f} kHz\")\n",
    "\n",
    "    ## ALL L1\n",
    "    if True:\n",
    "        num = np.histogram(xvar[all_trig_or[y==1]], bins = den[1])\n",
    "        rate = np.sum(all_trig_or[y==0]) / len(y_bkg) * totalMinBiasRate()\n",
    "        ax1.plot(den[1][1:], num[0]/den[0], \".-\", label = f\"All L1 Menu, Rate: {rate:.1f} kHz\")\n",
    "\n",
    "    ## BEST 5\n",
    "    if True:\n",
    "        num = np.histogram(xvar[best_bits_or[y==1]], bins = den[1])\n",
    "        rate = np.sum(best_bits_or[y==0]) / len(y_bkg) * totalMinBiasRate()\n",
    "        ax1.plot(den[1][1:], num[0]/den[0], \".-\", label = f\"Top 5 L1, Rate: {rate:.1f} kHz\")\n",
    "\n",
    "    ## NN trigger\n",
    "    for thr in [0.985]:\n",
    "        trig_mask = (y_pred > thr) #& (x[:,2] > 50)\n",
    "        num = np.histogram(xvar[trig_mask[y == 1]], bins = den[1])\n",
    "\n",
    "        rate = np.sum(trig_mask[y == 0])/ len(y_bkg) * totalMinBiasRate()\n",
    "        pure_rate = np.sum(trig_mask[y == 0] & ~all_trig_or[y==0])/ len(y_bkg) * totalMinBiasRate()\n",
    "\n",
    "        ax1.plot(den[1][1:], num[0]/den[0], \"o-\", label = \"NN>%s, Total Rate: %.1f kHz, Pure: %.1f\" %(thr, rate, pure_rate))\n",
    "\n",
    "\n",
    "    ax1.set_ylim(0,1.1)\n",
    "    ax1.grid()\n",
    "\n",
    "    ax1.legend(loc = 5, fontsize = 15)\n",
    "\n",
    "#     break"
   ]
  },
  {
   "cell_type": "markdown",
   "id": "3b5c4cc0",
   "metadata": {},
   "source": [
    "# Bonus: BDT"
   ]
  },
  {
   "cell_type": "markdown",
   "id": "68239865",
   "metadata": {},
   "source": [
    "We will try out a BDT instead of an NN for the same classification task:"
   ]
  },
  {
   "cell_type": "code",
   "execution_count": null,
   "id": "2e94974d",
   "metadata": {},
   "outputs": [],
   "source": [
    "from xgboost import XGBClassifier"
   ]
  },
  {
   "cell_type": "code",
   "execution_count": null,
   "id": "f21c6c2c",
   "metadata": {},
   "outputs": [],
   "source": [
    "bdt = XGBClassifier(n_estimators=20, max_depth=3, learning_rate=1, \n",
    "                        objective='binary:logistic',\n",
    "                       )"
   ]
  },
  {
   "cell_type": "code",
   "execution_count": null,
   "id": "b49164b6",
   "metadata": {},
   "outputs": [],
   "source": [
    "%%time\n",
    "_ = bdt.fit(X_train, y_train)"
   ]
  },
  {
   "cell_type": "code",
   "execution_count": null,
   "id": "aab1d3a6",
   "metadata": {
    "scrolled": true
   },
   "outputs": [],
   "source": [
    "%%time\n",
    "y_bdt = bdt.predict_proba(x_scaled)[:,1]"
   ]
  },
  {
   "cell_type": "markdown",
   "id": "6f21aea9",
   "metadata": {},
   "source": [
    "We will also check the ROCs for the test/train separately to check for overtraining:"
   ]
  },
  {
   "cell_type": "code",
   "execution_count": null,
   "id": "a7c5b8e9",
   "metadata": {},
   "outputs": [],
   "source": [
    "%%time\n",
    "y_test_bdt = bdt.predict_proba(X_test)[:,1]\n",
    "y_train_bdt = bdt.predict_proba(X_train)[:,1]"
   ]
  },
  {
   "cell_type": "code",
   "execution_count": null,
   "id": "441d7135",
   "metadata": {},
   "outputs": [],
   "source": [
    "fpr_bdt, tpr_bdt, thr_bdt = roc_curve(y_test, y_test_bdt, drop_intermediate=False)\n",
    "plt.plot(fpr_bdt * totalMinBiasRate(), tpr_bdt , label = \"bdt test\")\n",
    "\n",
    "fpr_bdt, tpr_bdt, thr_bdt = roc_curve(y_train, y_train_bdt, drop_intermediate=False)\n",
    "plt.plot(fpr_bdt * totalMinBiasRate(), tpr_bdt , label = \"bdt train\")\n",
    "\n",
    "fpr_bdt, tpr_bdt, thr_bdt = roc_curve(y, y_bdt, drop_intermediate=False)\n",
    "plt.plot(fpr_bdt * totalMinBiasRate(), tpr_bdt , label = \"bdt all\")\n",
    "\n",
    "plt.legend()\n",
    "plt.xlim(0,20)\n",
    "# plt.xscale(\"log\")"
   ]
  },
  {
   "cell_type": "markdown",
   "id": "b18df8f2",
   "metadata": {},
   "source": [
    "Extra: feature importance from BDT/bdt!"
   ]
  },
  {
   "cell_type": "code",
   "execution_count": null,
   "id": "602f6538",
   "metadata": {},
   "outputs": [],
   "source": [
    "plt.figure(figsize = (20,8))\n",
    "plt.bar(var_names, bdt.feature_importances_)\n",
    "plt.yscale(\"log\")\n",
    "plt.xticks(rotation = 90)\n",
    "plt.grid()"
   ]
  },
  {
   "cell_type": "markdown",
   "id": "f650f844",
   "metadata": {},
   "source": [
    "We can add the BDT to the ROC curves:"
   ]
  },
  {
   "cell_type": "code",
   "execution_count": null,
   "id": "4fd63056",
   "metadata": {},
   "outputs": [],
   "source": [
    "plt.figure(figsize = (12,8))\n",
    "plt.title(\"HH>bbtautau\")\n",
    "\n",
    "for trig in best_trigs:\n",
    "    eff = df_eff_pure.loc[trig,\"total\"]\n",
    "    rate = df_rate_bkg.loc[trig,\"total\"]\n",
    "\n",
    "    plt.plot(rate, eff, \"o\", label = trig, ms = 10)\n",
    "    \n",
    "## total L1 menu\n",
    "eff = np.sum(all_trig_or[y==1]) / np.sum(y==1)\n",
    "rate = np.sum(all_trig_or[y==0]) / np.sum(y==0) * totalMinBiasRate()\n",
    "plt.plot(rate, eff, \"o\", label = \"All L1\", ms = 10)\n",
    "\n",
    "## HT ROC\n",
    "plt.plot(ht_fpr * totalMinBiasRate(), ht_tpr, label = \"HT thr scan\")\n",
    "    \n",
    "## NN\n",
    "plt.plot(fpr * totalMinBiasRate(), tpr , label = \"NN trigger\")\n",
    "\n",
    "## BDT\n",
    "fpr_bdt, tpr_bdt, thr_bdt = roc_curve(y, y_bdt, drop_intermediate=False)\n",
    "plt.plot(fpr_bdt * totalMinBiasRate(), tpr_bdt , label = \"BDT trigger\")\n",
    "  \n",
    "plt.xlim(0,50)\n",
    "# plt.xlim(1,1e3)\n",
    "# plt.xscale(\"log\")\n",
    "\n",
    "plt.legend(fontsize = 15)\n",
    "plt.ylabel(\"Trigger/Signal efficiency [%]\")\n",
    "plt.xlabel(\"Trigger rate [kHz]\")\n",
    "plt.grid()"
   ]
  },
  {
   "cell_type": "markdown",
   "id": "fef7e094",
   "metadata": {},
   "source": [
    "We can also check the efficiencies again:"
   ]
  },
  {
   "cell_type": "code",
   "execution_count": null,
   "id": "30707719",
   "metadata": {},
   "outputs": [],
   "source": [
    "f,ax1 = plt.subplots(figsize = (10,8))\n",
    "ax2 = ax1.twinx()\n",
    "ax1.set_xlabel(\"Offline HT\")\n",
    "ax1.set_ylabel(\"Trigger (Signal) efficiency\")\n",
    "\n",
    "xvar = ht_sig\n",
    "xbins = np.linspace(0,1000,50)\n",
    "den = np.histogram(xvar, bins = xbins)\n",
    "ax2.hist(xvar, bins = xbins, label = \"HH>bbtautau\", color = \"grey\", alpha = 0.3)\n",
    "ax2.legend(loc = 4)\n",
    "ax2.set_ylabel(\"Event counts\")\n",
    "\n",
    "#### L1 \n",
    "for trig in list(best_trigs[:1]):# + [\"L1_SingleJet180\"]:\n",
    "    num = np.histogram(xvar[bits_sig[trig]], bins = den[1])\n",
    "    rate = np.sum(bits_bkg[trig]) / len(y_bkg) * totalMinBiasRate()\n",
    "    ax1.plot(den[1][1:], num[0]/den[0], \"o-\", label = f\"{trig}, Rate: {rate:.1f} kHz\")\n",
    "    \n",
    "## BEST 5\n",
    "if True:\n",
    "    num = np.histogram(xvar[best_bits_or[y==1]], bins = den[1])\n",
    "    rate = np.sum(best_bits_or[y==0]) / len(y_bkg) * totalMinBiasRate()\n",
    "    ax1.plot(den[1][1:], num[0]/den[0], \".-\", label = f\"Top 5 L1, Rate: {rate:.1f} kHz\")\n",
    "\n",
    "## NN trigger\n",
    "for thr in [0.985]:\n",
    "    trig_mask = (y_pred > thr) \n",
    "    num = np.histogram(xvar[trig_mask[y == 1]], bins = den[1])\n",
    "\n",
    "    rate = np.sum(trig_mask[y == 0])/ len(y_bkg) * totalMinBiasRate()\n",
    "    pure_rate = np.sum(trig_mask[y == 0] & ~all_trig_or[y==0])/ len(y_bkg) * totalMinBiasRate()\n",
    "    \n",
    "    ax1.plot(den[1][1:], num[0]/den[0], \"o-\", label = \"NN>%s, Total Rate: %.1f kHz, Pure: %.1f\" %(thr, rate, pure_rate))\n",
    "\n",
    "# BDT trigger\n",
    "for thr in [0.988]:\n",
    "    trig_mask = (y_bdt > thr) \n",
    "    num = np.histogram(xvar[trig_mask[y == 1]], bins = den[1])\n",
    "\n",
    "    rate = np.sum(trig_mask[y == 0])/ len(y_bkg) * totalMinBiasRate()\n",
    "    pure_rate = np.sum(trig_mask[y == 0] & ~all_trig_or[y==0])/ len(y_bkg) * totalMinBiasRate()\n",
    "    \n",
    "    ax1.plot(den[1][1:], num[0]/den[0], \"o-\", label = \"BDT>%s, Total Rate: %.1f kHz, Pure: %.1f\" %(thr, rate, pure_rate))\n",
    "\n",
    "\n",
    "\n",
    "# ax1.set_ylim(0,1.2)\n",
    "ax1.grid()\n",
    "\n",
    "ax1.legend(loc = 5, fontsize = 15)"
   ]
  },
  {
   "cell_type": "code",
   "execution_count": null,
   "id": "46196c9c",
   "metadata": {},
   "outputs": [],
   "source": [
    "f,ax1 = plt.subplots(figsize = (10,8))\n",
    "ax2 = ax1.twinx()\n",
    "ax1.set_xlabel(\"L1 HT\")\n",
    "ax1.set_ylabel(\"Trigger (Signal) efficiency\")\n",
    "\n",
    "xvar = l1ht_sig\n",
    "xbins = np.linspace(0,1000,50)\n",
    "den = np.histogram(xvar, bins = xbins)\n",
    "ax2.hist(xvar, bins = xbins, label = \"HH>bbtautau\", color = \"grey\", alpha = 0.3)\n",
    "ax2.legend(loc = 4)\n",
    "ax2.set_ylabel(\"Event counts\")\n",
    "\n",
    "#### L1 \n",
    "for trig in list(best_trigs[:1]):# + [\"L1_SingleJet180\"]:\n",
    "    num = np.histogram(xvar[bits_sig[trig]], bins = den[1])\n",
    "    rate = np.sum(bits_bkg[trig]) / len(y_bkg) * totalMinBiasRate()\n",
    "    ax1.plot(den[1][1:], num[0]/den[0], \"o-\", label = f\"{trig}, Rate: {rate:.1f} kHz\")\n",
    "    \n",
    "## BEST 5\n",
    "if True:\n",
    "    num = np.histogram(xvar[best_bits_or[y==1]], bins = den[1])\n",
    "    rate = np.sum(best_bits_or[y==0]) / len(y_bkg) * totalMinBiasRate()\n",
    "    ax1.plot(den[1][1:], num[0]/den[0], \".-\", label = f\"Top 5 L1, Rate: {rate:.1f} kHz\")\n",
    "\n",
    "## NN trigger\n",
    "for thr in [0.985]:\n",
    "    trig_mask = (y_pred > thr) #& (l1ht_all > 150)\n",
    "    num = np.histogram(xvar[trig_mask[y == 1]], bins = den[1])\n",
    "\n",
    "    rate = np.sum(trig_mask[y == 0])/ len(y_bkg) * totalMinBiasRate()\n",
    "    pure_rate = np.sum(trig_mask[y == 0] & ~all_trig_or[y==0])/ len(y_bkg) * totalMinBiasRate()\n",
    "    \n",
    "    ax1.plot(den[1][1:], num[0]/den[0], \"o-\", label = \"NN>%s, Total Rate: %.1f kHz, Pure: %.1f\" %(thr, rate, pure_rate))\n",
    "\n",
    "# BDT trigger\n",
    "for thr in [0.988]:\n",
    "    trig_mask = (y_bdt > thr) #& (l1ht_all > 150)\n",
    "    num = np.histogram(xvar[trig_mask[y == 1]], bins = den[1])\n",
    "\n",
    "    rate = np.sum(trig_mask[y == 0])/ len(y_bkg) * totalMinBiasRate()\n",
    "    pure_rate = np.sum(trig_mask[y == 0] & ~all_trig_or[y==0])/ len(y_bkg) * totalMinBiasRate()\n",
    "    \n",
    "    ax1.plot(den[1][1:], num[0]/den[0], \"o-\", label = \"BDT>%s, Total Rate: %.1f kHz, Pure: %.1f\" %(thr, rate, pure_rate))\n",
    "\n",
    "\n",
    "# ax1.set_ylim(0,1.2)\n",
    "ax1.grid()\n",
    "\n",
    "ax1.legend(loc = 5, fontsize = 15)"
   ]
  }
 ],
 "metadata": {
  "@webio": {
   "lastCommId": null,
   "lastKernelId": null
  },
  "kernelspec": {
   "display_name": "Python 3",
   "language": "python",
   "name": "python3"
  },
  "language_info": {
   "codemirror_mode": {
    "name": "ipython",
    "version": 3
   },
   "file_extension": ".py",
   "mimetype": "text/x-python",
   "name": "python",
   "nbconvert_exporter": "python",
   "pygments_lexer": "ipython3",
   "version": "3.9.12"
  }
 },
 "nbformat": 4,
 "nbformat_minor": 5
}
