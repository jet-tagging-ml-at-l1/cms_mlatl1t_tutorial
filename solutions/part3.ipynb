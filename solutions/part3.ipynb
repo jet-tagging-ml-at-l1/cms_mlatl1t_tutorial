{
 "cells": [
  {
   "cell_type": "markdown",
   "id": "3e175280",
   "metadata": {},
   "source": [
    "# CMSSW Emulator\n",
    "\n",
    "In this exercise you will be guided through the steps to create, compile, and run the emulator of the hls4ml model you trained in part 2. The code in these steps should be executed from the command line on `lxplus` after doing `source setup.sh` from this `cms_mlatl1t_tutorial`.\n",
    "\n",
    "When developing your own hls4ml NN emulators, you should compile and run your model emulator locally before delivering it to `cms-hls4ml`.\n",
    "\n",
    "**Note** you need to run the steps described below in the terminal before going through the cells in this notebook!\n",
    "\n",
    "## Prerequisite\n",
    "\n",
    "You will need the HLS for the model of part 2.\n",
    "\n",
    "## 1.\n",
    "\n",
    "Copy the NN-specific part of the hls4ml project to the `cms-hls4ml` repo. We _don't_ copy `ap_types` since we'll reference them from the externals.\n",
    "\n",
    "```shell\n",
    "[ ! -d $MLATL1T_DIR/part3/cms-hls4ml/L1TMLDemo/L1TMLDemo_v1/NN ] && mkdir $MLATL1T_DIR/part3/cms-hls4ml/L1TMLDemo/L1TMLDemo_v1/NN\n",
    "cp -r $MLATL1T_DIR/part2/L1TMLDemo_v1/firmware/{*.h,*.cpp,weights,nnet_utils} $MLATL1T_DIR/part3/cms-hls4ml/L1TMLDemo/L1TMLDemo_v1/NN\n",
    "```\n",
    "\n",
    "## 2.\n",
    "\n",
    "As of `hls4ml` `0.8.1`, when run outside of Vivado HLS, the C++ code loads the weights from txt files. We need to force compilation of the weights from the header file instead. \n",
    "\n",
    "This one liner will replace the `#define` that would cause the weights to be loaded from txt files with one that will load them from the header files when we compile instead.\n",
    "\n",
    "If you don't do this, when you `cmsRun` you will see a runtime error like `ERROR: file w2.txt does not exist`\n",
    "\n",
    "```shell\n",
    "find $MLATL1T_DIR/part3/cms-hls4ml/L1TMLDemo/L1TMLDemo_v1/NN \\( -type d -name .git -prune \\) -o -type f -print0 | xargs -0 sed -i 's/#ifndef __SYNTHESIS__/#ifdef __HLS4ML_LOAD_TXT_WEIGHTS__/'\n",
    "```\n",
    "\n",
    "## 3.\n",
    "\n",
    "`make` the hls4ml emulator interface shared object\n",
    "\n",
    "```shell\n",
    "cd $MLATL1T_DIR/part3/cms-hls4ml/hls4mlEmulatorExtras\n",
    "make\n",
    "mkdir lib64\n",
    "mv libemulator_interface.so lib64\n",
    "```\n",
    "\n",
    "## 4.\n",
    "\n",
    "`make` the `L1TMLDemo` model shared object\n",
    "\n",
    "```shell\n",
    "cd $MLATL1T_DIR/part3/cms-hls4ml/L1TMLDemo\n",
    "make\n",
    "```\n",
    "\n",
    "*Note* you might benefit from adding `-g` to `CXXFLAGS` to compile with debugging while developing.\n",
    "The Makefile line would change to `CXXFLAGS := -O3 -fPIC -std=$(CPP_STANDARD) -g`.\n",
    "\n",
    "\n",
    "## 5.\n",
    "\n",
    "`scram build` compile the CMSSW code\n",
    "\n",
    "```shell\n",
    "cd $CMSSW_BASE/src\n",
    "scram b -j8\n",
    "```\n",
    "\n",
    "## 6.\n",
    "\n",
    "Copy the `L1TMLDemo` model shared object to the CMSSW area.\n",
    "\n",
    "```shell\n",
    "mkdir $CMSSW_BASE/src/L1Trigger/L1TMLDemo/data\n",
    "cp $MLATL1T_DIR/part3/cms-hls4ml/L1TMLDemo/L1TMLDemo_v1.so $CMSSW_BASE/src/L1Trigger/L1TMLDemo/data\n",
    "```\n",
    "\n",
    "## 7.\n",
    "\n",
    "Run the test config over signal and background!\n",
    "\n",
    "```shell\n",
    "cd $CMSSW_BASE/src/L1Trigger/L1TMLDemo/test\n",
    "cmsRun demoL1TMLNtuple.py signal=True\n",
    "cmsRun demoL1TMLNtuple.py signal=False\n",
    "```\n",
    "\n",
    "We run over the same datasets as part 1:\n",
    "- Signal: `/GluGlutoHHto2B2Tau_kl-1p00_kt-1p00_c2-0p00_TuneCP5_13p6TeV_powheg-pythia8/Run3Summer22MiniAODv4-130X_mcRun3_2022_realistic_v5-v2/MINIAODSIM`\n",
    "- Background: `/SingleNeutrino_E-10-gun/Run3Summer23BPixMiniAODv4-130X_mcRun3_2023_realistic_postBPix_v2-v2/MINIAODSIM`\n",
    "\n",
    "This will produce the files\n",
    "- `L1TMLDemo_NanoAOD_signal.root`\n",
    "- `L1TMLDemo_NanoAOD_background.root`\n",
    "\n",
    "*Note* when developing your own models, you may unfortunately run into segmentation violations while developing. The most common reason is that the input and output data type set in the producer mismatch the types used by the model emulator. In this emulator workflow, this causes a runtime error rather than a compile time error.\n",
    "\n",
    "## 8.\n",
    "\n",
    "Run the notebook part3.ipynb\n",
    "\n",
    "# Notebook\n",
    "\n",
    "Now we can read the predictions from our Nano AOD ntuple and check they make sense compared to part 1 and part 2."
   ]
  },
  {
   "cell_type": "code",
   "execution_count": 1,
   "id": "8d652e36",
   "metadata": {},
   "outputs": [],
   "source": [
    "import numpy as np\n",
    "import uproot\n",
    "import awkward as ak\n",
    "import matplotlib.pyplot as plt\n",
    "import mplhep\n",
    "import os\n",
    "d = os.environ['MLATL1T_DIR']"
   ]
  },
  {
   "cell_type": "markdown",
   "id": "f40b86af",
   "metadata": {},
   "source": [
    "## Load data\n",
    "Load our signal and background data with `uproot`"
   ]
  },
  {
   "cell_type": "code",
   "execution_count": 2,
   "id": "e8fc68f0",
   "metadata": {},
   "outputs": [],
   "source": [
    "f_sig = uproot.open(d + '/part3/cmssw/src/L1Trigger/L1TMLDemo/test/L1TMLDemo_NanoAOD_signal.root')\n",
    "f_bkg = uproot.open(d + '/part3/cmssw/src/L1Trigger/L1TMLDemo/test/L1TMLDemo_NanoAOD_background.root')\n",
    "y_sig_cmssw = ak.flatten(f_sig['Events/L1TMLDemo_y'].array()).to_numpy()\n",
    "y_bkg_cmssw = ak.flatten(f_bkg['Events/L1TMLDemo_y'].array()).to_numpy()"
   ]
  },
  {
   "cell_type": "markdown",
   "id": "2069399f",
   "metadata": {},
   "source": [
    "## Histogram\n",
    "\n",
    "Plot the score distribution for signal and background"
   ]
  },
  {
   "cell_type": "code",
   "execution_count": 3,
   "id": "d55f97b8",
   "metadata": {},
   "outputs": [],
   "source": [
    "bins=np.linspace(0, 1, 100)\n",
    "w = bins[1]\n",
    "h_sig, _ = np.histogram(y_sig_cmssw, bins=bins)\n",
    "h_bkg, _ = np.histogram(y_bkg_cmssw, bins=bins)\n",
    "h_sig = h_sig.astype('float') / np.sum(h_sig)\n",
    "h_bkg = h_bkg.astype('float') / np.sum(h_bkg)"
   ]
  },
  {
   "cell_type": "markdown",
   "id": "08e81144",
   "metadata": {},
   "source": [
    "## Plot"
   ]
  },
  {
   "cell_type": "code",
   "execution_count": 4,
   "id": "eda30259",
   "metadata": {},
   "outputs": [
    {
     "name": "stderr",
     "output_type": "stream",
     "text": [
      "/afs/cern.ch/user/s/ssummers/.local/lib/python3.9/site-packages/numpy/core/getlimits.py:500: UserWarning: The value of the smallest subnormal for <class 'numpy.float64'> type is zero.\n",
      "  setattr(self, word, getattr(machar, word).flat[0])\n",
      "/afs/cern.ch/user/s/ssummers/.local/lib/python3.9/site-packages/numpy/core/getlimits.py:89: UserWarning: The value of the smallest subnormal for <class 'numpy.float64'> type is zero.\n",
      "  return self._float_to_str(self.smallest_subnormal)\n"
     ]
    },
    {
     "data": {
      "text/plain": [
       "Text(0, 0.5, 'Frequency')"
      ]
     },
     "execution_count": 4,
     "metadata": {},
     "output_type": "execute_result"
    },
    {
     "data": {
      "image/png": "[encoded data removed]",
      "text/plain": [
       "<Figure size 640x480 with 1 Axes>"
      ]
     },
     "metadata": {},
     "output_type": "display_data"
    }
   ],
   "source": [
    "mplhep.histplot(h_bkg, bins, label='Background')\n",
    "mplhep.histplot(h_sig, bins, label='Signal')\n",
    "plt.semilogy()\n",
    "plt.legend()\n",
    "plt.xlim(0,1)\n",
    "plt.xlabel('CMSSW NN Emulator Prediction')\n",
    "plt.ylabel('Frequency')"
   ]
  },
  {
   "cell_type": "code",
   "execution_count": null,
   "id": "cc0de85f",
   "metadata": {},
   "outputs": [],
   "source": []
  }
 ],
 "metadata": {
  "kernelspec": {
   "display_name": "Python 3 (ipykernel)",
   "language": "python",
   "name": "python3"
  },
  "language_info": {
   "codemirror_mode": {
    "name": "ipython",
    "version": 3
   },
   "file_extension": ".py",
   "mimetype": "text/x-python",
   "name": "python",
   "nbconvert_exporter": "python",
   "pygments_lexer": "ipython3",
   "version": "3.9.14"
  }
 },
 "nbformat": 4,
 "nbformat_minor": 5
}
